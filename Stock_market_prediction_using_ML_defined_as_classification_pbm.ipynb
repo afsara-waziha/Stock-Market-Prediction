{
 "cells": [
  {
   "cell_type": "code",
   "execution_count": 1,
   "id": "f79ab346",
   "metadata": {
    "id": "f79ab346"
   },
   "outputs": [],
   "source": [
    "#!pip install yfinance"
   ]
  },
  {
   "cell_type": "code",
   "execution_count": 2,
   "id": "a1eaab44",
   "metadata": {
    "id": "a1eaab44"
   },
   "outputs": [],
   "source": [
    "import yfinance as yf\n",
    "import pandas as pd\n",
    "import os"
   ]
  },
  {
   "cell_type": "code",
   "execution_count": 3,
   "id": "16860670",
   "metadata": {
    "id": "16860670"
   },
   "outputs": [],
   "source": [
    "#S&P 500 index is a market-capitalization-weighted index of 500 of the largest publicly traded companies in the US.\n",
    "if os.path.exists(\"sp500.csv\"):\n",
    "    sp500 = pd.read_csv(\"sp500.csv\", index_col=0)\n",
    "else:\n",
    "    sp500 = yf.Ticker(\"^GSPC\")\n",
    "    sp500 = sp500.history(period=\"max\")\n",
    "    sp500.to_csv(\"sp500.csv\")"
   ]
  },
  {
   "cell_type": "code",
   "execution_count": 4,
   "id": "2c4f2515",
   "metadata": {
    "id": "2c4f2515"
   },
   "outputs": [],
   "source": [
    "sp500.index = pd.to_datetime(sp500.index)"
   ]
  },
  {
   "cell_type": "code",
   "execution_count": 5,
   "id": "1120465d",
   "metadata": {
    "colab": {
     "base_uri": "https://localhost:8080/",
     "height": 455
    },
    "id": "1120465d",
    "outputId": "4ea5a7d3-6285-45bf-afe4-6426fb84bac7"
   },
   "outputs": [
    {
     "data": {
      "application/vnd.google.colaboratory.intrinsic+json": {
       "summary": "{\n  \"name\": \"sp500\",\n  \"rows\": 24204,\n  \"fields\": [\n    {\n      \"column\": \"Date\",\n      \"properties\": {\n        \"dtype\": \"date\",\n        \"min\": \"1927-12-30 00:00:00-05:00\",\n        \"max\": \"2024-05-08 00:00:00-04:00\",\n        \"num_unique_values\": 24204,\n        \"samples\": [\n          \"2022-06-08 00:00:00-04:00\",\n          \"1944-03-29 00:00:00-04:00\",\n          \"1973-07-26 00:00:00-04:00\"\n        ],\n        \"semantic_type\": \"\",\n        \"description\": \"\"\n      }\n    },\n    {\n      \"column\": \"Open\",\n      \"properties\": {\n        \"dtype\": \"number\",\n        \"std\": 1019.4104839732637,\n        \"min\": 0.0,\n        \"max\": 5257.97021484375,\n        \"num_unique_values\": 13572,\n        \"samples\": [\n          8.229999542236328,\n          1197.260009765625,\n          1455.1800537109375\n        ],\n        \"semantic_type\": \"\",\n        \"description\": \"\"\n      }\n    },\n    {\n      \"column\": \"High\",\n      \"properties\": {\n        \"dtype\": \"number\",\n        \"std\": 1013.921393515949,\n        \"min\": 4.400000095367432,\n        \"max\": 5264.85009765625,\n        \"num_unique_values\": 16685,\n        \"samples\": [\n          95.5,\n          108.19999694824219,\n          1488.010009765625\n        ],\n        \"semantic_type\": \"\",\n        \"description\": \"\"\n      }\n    },\n    {\n      \"column\": \"Low\",\n      \"properties\": {\n        \"dtype\": \"number\",\n        \"std\": 1002.3663241791862,\n        \"min\": 4.400000095367432,\n        \"max\": 5245.81982421875,\n        \"num_unique_values\": 16683,\n        \"samples\": [\n          19.8799991607666,\n          4088.389892578125,\n          40.41999816894531\n        ],\n        \"semantic_type\": \"\",\n        \"description\": \"\"\n      }\n    },\n    {\n      \"column\": \"Close\",\n      \"properties\": {\n        \"dtype\": \"number\",\n        \"std\": 1008.5164817489381,\n        \"min\": 4.400000095367432,\n        \"max\": 5254.35009765625,\n        \"num_unique_values\": 16683,\n        \"samples\": [\n          19.8799991607666,\n          4117.85986328125,\n          40.41999816894531\n        ],\n        \"semantic_type\": \"\",\n        \"description\": \"\"\n      }\n    },\n    {\n      \"column\": \"Volume\",\n      \"properties\": {\n        \"dtype\": \"number\",\n        \"std\": 1613392826,\n        \"min\": 0,\n        \"max\": 11456230000,\n        \"num_unique_values\": 12931,\n        \"samples\": [\n          4302190000,\n          292350000,\n          4028270000\n        ],\n        \"semantic_type\": \"\",\n        \"description\": \"\"\n      }\n    },\n    {\n      \"column\": \"Dividends\",\n      \"properties\": {\n        \"dtype\": \"number\",\n        \"std\": 0.0,\n        \"min\": 0.0,\n        \"max\": 0.0,\n        \"num_unique_values\": 1,\n        \"samples\": [\n          0.0\n        ],\n        \"semantic_type\": \"\",\n        \"description\": \"\"\n      }\n    },\n    {\n      \"column\": \"Stock Splits\",\n      \"properties\": {\n        \"dtype\": \"number\",\n        \"std\": 0.0,\n        \"min\": 0.0,\n        \"max\": 0.0,\n        \"num_unique_values\": 1,\n        \"samples\": [\n          0.0\n        ],\n        \"semantic_type\": \"\",\n        \"description\": \"\"\n      }\n    }\n  ]\n}",
       "type": "dataframe",
       "variable_name": "sp500"
      },
      "text/html": [
       "\n",
       "  <div id=\"df-0df287f6-5232-439d-849e-4ffe107b4810\" class=\"colab-df-container\">\n",
       "    <div>\n",
       "<style scoped>\n",
       "    .dataframe tbody tr th:only-of-type {\n",
       "        vertical-align: middle;\n",
       "    }\n",
       "\n",
       "    .dataframe tbody tr th {\n",
       "        vertical-align: top;\n",
       "    }\n",
       "\n",
       "    .dataframe thead th {\n",
       "        text-align: right;\n",
       "    }\n",
       "</style>\n",
       "<table border=\"1\" class=\"dataframe\">\n",
       "  <thead>\n",
       "    <tr style=\"text-align: right;\">\n",
       "      <th></th>\n",
       "      <th>Open</th>\n",
       "      <th>High</th>\n",
       "      <th>Low</th>\n",
       "      <th>Close</th>\n",
       "      <th>Volume</th>\n",
       "      <th>Dividends</th>\n",
       "      <th>Stock Splits</th>\n",
       "    </tr>\n",
       "    <tr>\n",
       "      <th>Date</th>\n",
       "      <th></th>\n",
       "      <th></th>\n",
       "      <th></th>\n",
       "      <th></th>\n",
       "      <th></th>\n",
       "      <th></th>\n",
       "      <th></th>\n",
       "    </tr>\n",
       "  </thead>\n",
       "  <tbody>\n",
       "    <tr>\n",
       "      <th>1927-12-30 00:00:00-05:00</th>\n",
       "      <td>17.660000</td>\n",
       "      <td>17.660000</td>\n",
       "      <td>17.660000</td>\n",
       "      <td>17.660000</td>\n",
       "      <td>0</td>\n",
       "      <td>0.0</td>\n",
       "      <td>0.0</td>\n",
       "    </tr>\n",
       "    <tr>\n",
       "      <th>1928-01-03 00:00:00-05:00</th>\n",
       "      <td>17.760000</td>\n",
       "      <td>17.760000</td>\n",
       "      <td>17.760000</td>\n",
       "      <td>17.760000</td>\n",
       "      <td>0</td>\n",
       "      <td>0.0</td>\n",
       "      <td>0.0</td>\n",
       "    </tr>\n",
       "    <tr>\n",
       "      <th>1928-01-04 00:00:00-05:00</th>\n",
       "      <td>17.719999</td>\n",
       "      <td>17.719999</td>\n",
       "      <td>17.719999</td>\n",
       "      <td>17.719999</td>\n",
       "      <td>0</td>\n",
       "      <td>0.0</td>\n",
       "      <td>0.0</td>\n",
       "    </tr>\n",
       "    <tr>\n",
       "      <th>1928-01-05 00:00:00-05:00</th>\n",
       "      <td>17.549999</td>\n",
       "      <td>17.549999</td>\n",
       "      <td>17.549999</td>\n",
       "      <td>17.549999</td>\n",
       "      <td>0</td>\n",
       "      <td>0.0</td>\n",
       "      <td>0.0</td>\n",
       "    </tr>\n",
       "    <tr>\n",
       "      <th>1928-01-06 00:00:00-05:00</th>\n",
       "      <td>17.660000</td>\n",
       "      <td>17.660000</td>\n",
       "      <td>17.660000</td>\n",
       "      <td>17.660000</td>\n",
       "      <td>0</td>\n",
       "      <td>0.0</td>\n",
       "      <td>0.0</td>\n",
       "    </tr>\n",
       "    <tr>\n",
       "      <th>...</th>\n",
       "      <td>...</td>\n",
       "      <td>...</td>\n",
       "      <td>...</td>\n",
       "      <td>...</td>\n",
       "      <td>...</td>\n",
       "      <td>...</td>\n",
       "      <td>...</td>\n",
       "    </tr>\n",
       "    <tr>\n",
       "      <th>2024-05-02 00:00:00-04:00</th>\n",
       "      <td>5049.319824</td>\n",
       "      <td>5073.209961</td>\n",
       "      <td>5011.049805</td>\n",
       "      <td>5064.200195</td>\n",
       "      <td>4381660000</td>\n",
       "      <td>0.0</td>\n",
       "      <td>0.0</td>\n",
       "    </tr>\n",
       "    <tr>\n",
       "      <th>2024-05-03 00:00:00-04:00</th>\n",
       "      <td>5122.779785</td>\n",
       "      <td>5139.120117</td>\n",
       "      <td>5101.220215</td>\n",
       "      <td>5127.790039</td>\n",
       "      <td>3924990000</td>\n",
       "      <td>0.0</td>\n",
       "      <td>0.0</td>\n",
       "    </tr>\n",
       "    <tr>\n",
       "      <th>2024-05-06 00:00:00-04:00</th>\n",
       "      <td>5142.419922</td>\n",
       "      <td>5181.000000</td>\n",
       "      <td>5142.419922</td>\n",
       "      <td>5180.740234</td>\n",
       "      <td>3683250000</td>\n",
       "      <td>0.0</td>\n",
       "      <td>0.0</td>\n",
       "    </tr>\n",
       "    <tr>\n",
       "      <th>2024-05-07 00:00:00-04:00</th>\n",
       "      <td>5187.200195</td>\n",
       "      <td>5200.229980</td>\n",
       "      <td>5178.959961</td>\n",
       "      <td>5187.700195</td>\n",
       "      <td>3987890000</td>\n",
       "      <td>0.0</td>\n",
       "      <td>0.0</td>\n",
       "    </tr>\n",
       "    <tr>\n",
       "      <th>2024-05-08 00:00:00-04:00</th>\n",
       "      <td>5168.979980</td>\n",
       "      <td>5191.950195</td>\n",
       "      <td>5165.859863</td>\n",
       "      <td>5187.669922</td>\n",
       "      <td>3842100000</td>\n",
       "      <td>0.0</td>\n",
       "      <td>0.0</td>\n",
       "    </tr>\n",
       "  </tbody>\n",
       "</table>\n",
       "<p>24204 rows × 7 columns</p>\n",
       "</div>\n",
       "    <div class=\"colab-df-buttons\">\n",
       "\n",
       "  <div class=\"colab-df-container\">\n",
       "    <button class=\"colab-df-convert\" onclick=\"convertToInteractive('df-0df287f6-5232-439d-849e-4ffe107b4810')\"\n",
       "            title=\"Convert this dataframe to an interactive table.\"\n",
       "            style=\"display:none;\">\n",
       "\n",
       "  <svg xmlns=\"http://www.w3.org/2000/svg\" height=\"24px\" viewBox=\"0 -960 960 960\">\n",
       "    <path d=\"M120-120v-720h720v720H120Zm60-500h600v-160H180v160Zm220 220h160v-160H400v160Zm0 220h160v-160H400v160ZM180-400h160v-160H180v160Zm440 0h160v-160H620v160ZM180-180h160v-160H180v160Zm440 0h160v-160H620v160Z\"/>\n",
       "  </svg>\n",
       "    </button>\n",
       "\n",
       "  <style>\n",
       "    .colab-df-container {\n",
       "      display:flex;\n",
       "      gap: 12px;\n",
       "    }\n",
       "\n",
       "    .colab-df-convert {\n",
       "      background-color: #E8F0FE;\n",
       "      border: none;\n",
       "      border-radius: 50%;\n",
       "      cursor: pointer;\n",
       "      display: none;\n",
       "      fill: #1967D2;\n",
       "      height: 32px;\n",
       "      padding: 0 0 0 0;\n",
       "      width: 32px;\n",
       "    }\n",
       "\n",
       "    .colab-df-convert:hover {\n",
       "      background-color: #E2EBFA;\n",
       "      box-shadow: 0px 1px 2px rgba(60, 64, 67, 0.3), 0px 1px 3px 1px rgba(60, 64, 67, 0.15);\n",
       "      fill: #174EA6;\n",
       "    }\n",
       "\n",
       "    .colab-df-buttons div {\n",
       "      margin-bottom: 4px;\n",
       "    }\n",
       "\n",
       "    [theme=dark] .colab-df-convert {\n",
       "      background-color: #3B4455;\n",
       "      fill: #D2E3FC;\n",
       "    }\n",
       "\n",
       "    [theme=dark] .colab-df-convert:hover {\n",
       "      background-color: #434B5C;\n",
       "      box-shadow: 0px 1px 3px 1px rgba(0, 0, 0, 0.15);\n",
       "      filter: drop-shadow(0px 1px 2px rgba(0, 0, 0, 0.3));\n",
       "      fill: #FFFFFF;\n",
       "    }\n",
       "  </style>\n",
       "\n",
       "    <script>\n",
       "      const buttonEl =\n",
       "        document.querySelector('#df-0df287f6-5232-439d-849e-4ffe107b4810 button.colab-df-convert');\n",
       "      buttonEl.style.display =\n",
       "        google.colab.kernel.accessAllowed ? 'block' : 'none';\n",
       "\n",
       "      async function convertToInteractive(key) {\n",
       "        const element = document.querySelector('#df-0df287f6-5232-439d-849e-4ffe107b4810');\n",
       "        const dataTable =\n",
       "          await google.colab.kernel.invokeFunction('convertToInteractive',\n",
       "                                                    [key], {});\n",
       "        if (!dataTable) return;\n",
       "\n",
       "        const docLinkHtml = 'Like what you see? Visit the ' +\n",
       "          '<a target=\"_blank\" href=https://colab.research.google.com/notebooks/data_table.ipynb>data table notebook</a>'\n",
       "          + ' to learn more about interactive tables.';\n",
       "        element.innerHTML = '';\n",
       "        dataTable['output_type'] = 'display_data';\n",
       "        await google.colab.output.renderOutput(dataTable, element);\n",
       "        const docLink = document.createElement('div');\n",
       "        docLink.innerHTML = docLinkHtml;\n",
       "        element.appendChild(docLink);\n",
       "      }\n",
       "    </script>\n",
       "  </div>\n",
       "\n",
       "\n",
       "<div id=\"df-50a80830-ee60-4193-96f9-bcba1f690c54\">\n",
       "  <button class=\"colab-df-quickchart\" onclick=\"quickchart('df-50a80830-ee60-4193-96f9-bcba1f690c54')\"\n",
       "            title=\"Suggest charts\"\n",
       "            style=\"display:none;\">\n",
       "\n",
       "<svg xmlns=\"http://www.w3.org/2000/svg\" height=\"24px\"viewBox=\"0 0 24 24\"\n",
       "     width=\"24px\">\n",
       "    <g>\n",
       "        <path d=\"M19 3H5c-1.1 0-2 .9-2 2v14c0 1.1.9 2 2 2h14c1.1 0 2-.9 2-2V5c0-1.1-.9-2-2-2zM9 17H7v-7h2v7zm4 0h-2V7h2v10zm4 0h-2v-4h2v4z\"/>\n",
       "    </g>\n",
       "</svg>\n",
       "  </button>\n",
       "\n",
       "<style>\n",
       "  .colab-df-quickchart {\n",
       "      --bg-color: #E8F0FE;\n",
       "      --fill-color: #1967D2;\n",
       "      --hover-bg-color: #E2EBFA;\n",
       "      --hover-fill-color: #174EA6;\n",
       "      --disabled-fill-color: #AAA;\n",
       "      --disabled-bg-color: #DDD;\n",
       "  }\n",
       "\n",
       "  [theme=dark] .colab-df-quickchart {\n",
       "      --bg-color: #3B4455;\n",
       "      --fill-color: #D2E3FC;\n",
       "      --hover-bg-color: #434B5C;\n",
       "      --hover-fill-color: #FFFFFF;\n",
       "      --disabled-bg-color: #3B4455;\n",
       "      --disabled-fill-color: #666;\n",
       "  }\n",
       "\n",
       "  .colab-df-quickchart {\n",
       "    background-color: var(--bg-color);\n",
       "    border: none;\n",
       "    border-radius: 50%;\n",
       "    cursor: pointer;\n",
       "    display: none;\n",
       "    fill: var(--fill-color);\n",
       "    height: 32px;\n",
       "    padding: 0;\n",
       "    width: 32px;\n",
       "  }\n",
       "\n",
       "  .colab-df-quickchart:hover {\n",
       "    background-color: var(--hover-bg-color);\n",
       "    box-shadow: 0 1px 2px rgba(60, 64, 67, 0.3), 0 1px 3px 1px rgba(60, 64, 67, 0.15);\n",
       "    fill: var(--button-hover-fill-color);\n",
       "  }\n",
       "\n",
       "  .colab-df-quickchart-complete:disabled,\n",
       "  .colab-df-quickchart-complete:disabled:hover {\n",
       "    background-color: var(--disabled-bg-color);\n",
       "    fill: var(--disabled-fill-color);\n",
       "    box-shadow: none;\n",
       "  }\n",
       "\n",
       "  .colab-df-spinner {\n",
       "    border: 2px solid var(--fill-color);\n",
       "    border-color: transparent;\n",
       "    border-bottom-color: var(--fill-color);\n",
       "    animation:\n",
       "      spin 1s steps(1) infinite;\n",
       "  }\n",
       "\n",
       "  @keyframes spin {\n",
       "    0% {\n",
       "      border-color: transparent;\n",
       "      border-bottom-color: var(--fill-color);\n",
       "      border-left-color: var(--fill-color);\n",
       "    }\n",
       "    20% {\n",
       "      border-color: transparent;\n",
       "      border-left-color: var(--fill-color);\n",
       "      border-top-color: var(--fill-color);\n",
       "    }\n",
       "    30% {\n",
       "      border-color: transparent;\n",
       "      border-left-color: var(--fill-color);\n",
       "      border-top-color: var(--fill-color);\n",
       "      border-right-color: var(--fill-color);\n",
       "    }\n",
       "    40% {\n",
       "      border-color: transparent;\n",
       "      border-right-color: var(--fill-color);\n",
       "      border-top-color: var(--fill-color);\n",
       "    }\n",
       "    60% {\n",
       "      border-color: transparent;\n",
       "      border-right-color: var(--fill-color);\n",
       "    }\n",
       "    80% {\n",
       "      border-color: transparent;\n",
       "      border-right-color: var(--fill-color);\n",
       "      border-bottom-color: var(--fill-color);\n",
       "    }\n",
       "    90% {\n",
       "      border-color: transparent;\n",
       "      border-bottom-color: var(--fill-color);\n",
       "    }\n",
       "  }\n",
       "</style>\n",
       "\n",
       "  <script>\n",
       "    async function quickchart(key) {\n",
       "      const quickchartButtonEl =\n",
       "        document.querySelector('#' + key + ' button');\n",
       "      quickchartButtonEl.disabled = true;  // To prevent multiple clicks.\n",
       "      quickchartButtonEl.classList.add('colab-df-spinner');\n",
       "      try {\n",
       "        const charts = await google.colab.kernel.invokeFunction(\n",
       "            'suggestCharts', [key], {});\n",
       "      } catch (error) {\n",
       "        console.error('Error during call to suggestCharts:', error);\n",
       "      }\n",
       "      quickchartButtonEl.classList.remove('colab-df-spinner');\n",
       "      quickchartButtonEl.classList.add('colab-df-quickchart-complete');\n",
       "    }\n",
       "    (() => {\n",
       "      let quickchartButtonEl =\n",
       "        document.querySelector('#df-50a80830-ee60-4193-96f9-bcba1f690c54 button');\n",
       "      quickchartButtonEl.style.display =\n",
       "        google.colab.kernel.accessAllowed ? 'block' : 'none';\n",
       "    })();\n",
       "  </script>\n",
       "</div>\n",
       "    </div>\n",
       "  </div>\n"
      ],
      "text/plain": [
       "                                  Open         High          Low        Close  \\\n",
       "Date                                                                            \n",
       "1927-12-30 00:00:00-05:00    17.660000    17.660000    17.660000    17.660000   \n",
       "1928-01-03 00:00:00-05:00    17.760000    17.760000    17.760000    17.760000   \n",
       "1928-01-04 00:00:00-05:00    17.719999    17.719999    17.719999    17.719999   \n",
       "1928-01-05 00:00:00-05:00    17.549999    17.549999    17.549999    17.549999   \n",
       "1928-01-06 00:00:00-05:00    17.660000    17.660000    17.660000    17.660000   \n",
       "...                                ...          ...          ...          ...   \n",
       "2024-05-02 00:00:00-04:00  5049.319824  5073.209961  5011.049805  5064.200195   \n",
       "2024-05-03 00:00:00-04:00  5122.779785  5139.120117  5101.220215  5127.790039   \n",
       "2024-05-06 00:00:00-04:00  5142.419922  5181.000000  5142.419922  5180.740234   \n",
       "2024-05-07 00:00:00-04:00  5187.200195  5200.229980  5178.959961  5187.700195   \n",
       "2024-05-08 00:00:00-04:00  5168.979980  5191.950195  5165.859863  5187.669922   \n",
       "\n",
       "                               Volume  Dividends  Stock Splits  \n",
       "Date                                                            \n",
       "1927-12-30 00:00:00-05:00           0        0.0           0.0  \n",
       "1928-01-03 00:00:00-05:00           0        0.0           0.0  \n",
       "1928-01-04 00:00:00-05:00           0        0.0           0.0  \n",
       "1928-01-05 00:00:00-05:00           0        0.0           0.0  \n",
       "1928-01-06 00:00:00-05:00           0        0.0           0.0  \n",
       "...                               ...        ...           ...  \n",
       "2024-05-02 00:00:00-04:00  4381660000        0.0           0.0  \n",
       "2024-05-03 00:00:00-04:00  3924990000        0.0           0.0  \n",
       "2024-05-06 00:00:00-04:00  3683250000        0.0           0.0  \n",
       "2024-05-07 00:00:00-04:00  3987890000        0.0           0.0  \n",
       "2024-05-08 00:00:00-04:00  3842100000        0.0           0.0  \n",
       "\n",
       "[24204 rows x 7 columns]"
      ]
     },
     "execution_count": 5,
     "metadata": {},
     "output_type": "execute_result"
    }
   ],
   "source": [
    "sp500"
   ]
  },
  {
   "cell_type": "code",
   "execution_count": 6,
   "id": "56540d8d",
   "metadata": {
    "id": "56540d8d"
   },
   "outputs": [],
   "source": [
    "del sp500[\"Dividends\"]\n",
    "del sp500[\"Stock Splits\"]"
   ]
  },
  {
   "cell_type": "code",
   "execution_count": 7,
   "id": "1f301421",
   "metadata": {
    "colab": {
     "base_uri": "https://localhost:8080/",
     "height": 440
    },
    "id": "1f301421",
    "outputId": "da6a5e82-46a1-4d97-8c82-4511333d37f5"
   },
   "outputs": [
    {
     "data": {
      "text/plain": [
       "<Axes: xlabel='Date'>"
      ]
     },
     "execution_count": 7,
     "metadata": {},
     "output_type": "execute_result"
    },
    {
     "data": {
      "image/png": "[encoded data removed]",
      "text/plain": [
       "<Figure size 640x480 with 1 Axes>"
      ]
     },
     "metadata": {},
     "output_type": "display_data"
    }
   ],
   "source": [
    "sp500.plot.line(y=\"Close\", use_index=True)"
   ]
  },
  {
   "cell_type": "code",
   "execution_count": 8,
   "id": "d4149fbb",
   "metadata": {
    "id": "d4149fbb"
   },
   "outputs": [],
   "source": [
    "sp500[\"Tomorrow\"] = sp500[\"Close\"].shift(-1)"
   ]
  },
  {
   "cell_type": "code",
   "execution_count": 9,
   "id": "19003b8d",
   "metadata": {
    "id": "19003b8d"
   },
   "outputs": [],
   "source": [
    "sp500[\"Target\"] = (sp500[\"Tomorrow\"] > sp500[\"Close\"]).astype(int)"
   ]
  },
  {
   "cell_type": "code",
   "execution_count": 10,
   "id": "60cf66b6",
   "metadata": {
    "id": "60cf66b6"
   },
   "outputs": [],
   "source": [
    "sp500 = sp500.loc[\"2015-01-01\":].copy()"
   ]
  },
  {
   "cell_type": "code",
   "execution_count": 11,
   "id": "8b56ac42",
   "metadata": {
    "colab": {
     "base_uri": "https://localhost:8080/",
     "height": 455
    },
    "id": "8b56ac42",
    "outputId": "edb625e5-e9d5-443b-db27-98317b00f9b2"
   },
   "outputs": [
    {
     "data": {
      "application/vnd.google.colaboratory.intrinsic+json": {
       "summary": "{\n  \"name\": \"sp500\",\n  \"rows\": 2353,\n  \"fields\": [\n    {\n      \"column\": \"Date\",\n      \"properties\": {\n        \"dtype\": \"date\",\n        \"min\": \"2015-01-02 00:00:00-05:00\",\n        \"max\": \"2024-05-08 00:00:00-04:00\",\n        \"num_unique_values\": 2353,\n        \"samples\": [\n          \"2018-03-21 00:00:00-04:00\",\n          \"2020-05-29 00:00:00-04:00\",\n          \"2019-05-22 00:00:00-04:00\"\n        ],\n        \"semantic_type\": \"\",\n        \"description\": \"\"\n      }\n    },\n    {\n      \"column\": \"Open\",\n      \"properties\": {\n        \"dtype\": \"number\",\n        \"std\": 928.9807716436733,\n        \"min\": 1833.4000244140625,\n        \"max\": 5257.97021484375,\n        \"num_unique_values\": 2336,\n        \"samples\": [\n          4712.0,\n          4144.25,\n          3236.659912109375\n        ],\n        \"semantic_type\": \"\",\n        \"description\": \"\"\n      }\n    },\n    {\n      \"column\": \"High\",\n      \"properties\": {\n        \"dtype\": \"number\",\n        \"std\": 934.5388258644333,\n        \"min\": 1847.0,\n        \"max\": 5264.85009765625,\n        \"num_unique_values\": 2337,\n        \"samples\": [\n          4714.9501953125,\n          4124.6298828125,\n          3320.31005859375\n        ],\n        \"semantic_type\": \"\",\n        \"description\": \"\"\n      }\n    },\n    {\n      \"column\": \"Low\",\n      \"properties\": {\n        \"dtype\": \"number\",\n        \"std\": 923.5703244162538,\n        \"min\": 1810.0999755859375,\n        \"max\": 5245.81982421875,\n        \"num_unique_values\": 2341,\n        \"samples\": [\n          3889.070068359375,\n          2496.669921875,\n          2045.6700439453125\n        ],\n        \"semantic_type\": \"\",\n        \"description\": \"\"\n      }\n    },\n    {\n      \"column\": \"Close\",\n      \"properties\": {\n        \"dtype\": \"number\",\n        \"std\": 929.3444122654255,\n        \"min\": 1829.0799560546875,\n        \"max\": 5254.35009765625,\n        \"num_unique_values\": 2341,\n        \"samples\": [\n          3974.5400390625,\n          2496.659912109375,\n          2043.4100341796875\n        ],\n        \"semantic_type\": \"\",\n        \"description\": \"\"\n      }\n    },\n    {\n      \"column\": \"Volume\",\n      \"properties\": {\n        \"dtype\": \"number\",\n        \"std\": 961339006,\n        \"min\": 1296530000,\n        \"max\": 9976520000,\n        \"num_unique_values\": 2341,\n        \"samples\": [\n          4316260000,\n          3371370000,\n          3715150000\n        ],\n        \"semantic_type\": \"\",\n        \"description\": \"\"\n      }\n    },\n    {\n      \"column\": \"Tomorrow\",\n      \"properties\": {\n        \"dtype\": \"number\",\n        \"std\": 929.2448516665053,\n        \"min\": 1829.0799560546875,\n        \"max\": 5254.35009765625,\n        \"num_unique_values\": 2340,\n        \"samples\": [\n          2083.580078125,\n          4459.4501953125,\n          3935.179931640625\n        ],\n        \"semantic_type\": \"\",\n        \"description\": \"\"\n      }\n    },\n    {\n      \"column\": \"Target\",\n      \"properties\": {\n        \"dtype\": \"number\",\n        \"std\": 0,\n        \"min\": 0,\n        \"max\": 1,\n        \"num_unique_values\": 2,\n        \"samples\": [\n          1,\n          0\n        ],\n        \"semantic_type\": \"\",\n        \"description\": \"\"\n      }\n    }\n  ]\n}",
       "type": "dataframe",
       "variable_name": "sp500"
      },
      "text/html": [
       "\n",
       "  <div id=\"df-fb3c8d14-7b75-48f3-99b2-260a1923494b\" class=\"colab-df-container\">\n",
       "    <div>\n",
       "<style scoped>\n",
       "    .dataframe tbody tr th:only-of-type {\n",
       "        vertical-align: middle;\n",
       "    }\n",
       "\n",
       "    .dataframe tbody tr th {\n",
       "        vertical-align: top;\n",
       "    }\n",
       "\n",
       "    .dataframe thead th {\n",
       "        text-align: right;\n",
       "    }\n",
       "</style>\n",
       "<table border=\"1\" class=\"dataframe\">\n",
       "  <thead>\n",
       "    <tr style=\"text-align: right;\">\n",
       "      <th></th>\n",
       "      <th>Open</th>\n",
       "      <th>High</th>\n",
       "      <th>Low</th>\n",
       "      <th>Close</th>\n",
       "      <th>Volume</th>\n",
       "      <th>Tomorrow</th>\n",
       "      <th>Target</th>\n",
       "    </tr>\n",
       "    <tr>\n",
       "      <th>Date</th>\n",
       "      <th></th>\n",
       "      <th></th>\n",
       "      <th></th>\n",
       "      <th></th>\n",
       "      <th></th>\n",
       "      <th></th>\n",
       "      <th></th>\n",
       "    </tr>\n",
       "  </thead>\n",
       "  <tbody>\n",
       "    <tr>\n",
       "      <th>2015-01-02 00:00:00-05:00</th>\n",
       "      <td>2058.899902</td>\n",
       "      <td>2072.360107</td>\n",
       "      <td>2046.040039</td>\n",
       "      <td>2058.199951</td>\n",
       "      <td>2708700000</td>\n",
       "      <td>2020.579956</td>\n",
       "      <td>0</td>\n",
       "    </tr>\n",
       "    <tr>\n",
       "      <th>2015-01-05 00:00:00-05:00</th>\n",
       "      <td>2054.439941</td>\n",
       "      <td>2054.439941</td>\n",
       "      <td>2017.339966</td>\n",
       "      <td>2020.579956</td>\n",
       "      <td>3799120000</td>\n",
       "      <td>2002.609985</td>\n",
       "      <td>0</td>\n",
       "    </tr>\n",
       "    <tr>\n",
       "      <th>2015-01-06 00:00:00-05:00</th>\n",
       "      <td>2022.150024</td>\n",
       "      <td>2030.250000</td>\n",
       "      <td>1992.439941</td>\n",
       "      <td>2002.609985</td>\n",
       "      <td>4460110000</td>\n",
       "      <td>2025.900024</td>\n",
       "      <td>1</td>\n",
       "    </tr>\n",
       "    <tr>\n",
       "      <th>2015-01-07 00:00:00-05:00</th>\n",
       "      <td>2005.550049</td>\n",
       "      <td>2029.609985</td>\n",
       "      <td>2005.550049</td>\n",
       "      <td>2025.900024</td>\n",
       "      <td>3805480000</td>\n",
       "      <td>2062.139893</td>\n",
       "      <td>1</td>\n",
       "    </tr>\n",
       "    <tr>\n",
       "      <th>2015-01-08 00:00:00-05:00</th>\n",
       "      <td>2030.609985</td>\n",
       "      <td>2064.080078</td>\n",
       "      <td>2030.609985</td>\n",
       "      <td>2062.139893</td>\n",
       "      <td>3934010000</td>\n",
       "      <td>2044.810059</td>\n",
       "      <td>0</td>\n",
       "    </tr>\n",
       "    <tr>\n",
       "      <th>...</th>\n",
       "      <td>...</td>\n",
       "      <td>...</td>\n",
       "      <td>...</td>\n",
       "      <td>...</td>\n",
       "      <td>...</td>\n",
       "      <td>...</td>\n",
       "      <td>...</td>\n",
       "    </tr>\n",
       "    <tr>\n",
       "      <th>2024-05-02 00:00:00-04:00</th>\n",
       "      <td>5049.319824</td>\n",
       "      <td>5073.209961</td>\n",
       "      <td>5011.049805</td>\n",
       "      <td>5064.200195</td>\n",
       "      <td>4381660000</td>\n",
       "      <td>5127.790039</td>\n",
       "      <td>1</td>\n",
       "    </tr>\n",
       "    <tr>\n",
       "      <th>2024-05-03 00:00:00-04:00</th>\n",
       "      <td>5122.779785</td>\n",
       "      <td>5139.120117</td>\n",
       "      <td>5101.220215</td>\n",
       "      <td>5127.790039</td>\n",
       "      <td>3924990000</td>\n",
       "      <td>5180.740234</td>\n",
       "      <td>1</td>\n",
       "    </tr>\n",
       "    <tr>\n",
       "      <th>2024-05-06 00:00:00-04:00</th>\n",
       "      <td>5142.419922</td>\n",
       "      <td>5181.000000</td>\n",
       "      <td>5142.419922</td>\n",
       "      <td>5180.740234</td>\n",
       "      <td>3683250000</td>\n",
       "      <td>5187.700195</td>\n",
       "      <td>1</td>\n",
       "    </tr>\n",
       "    <tr>\n",
       "      <th>2024-05-07 00:00:00-04:00</th>\n",
       "      <td>5187.200195</td>\n",
       "      <td>5200.229980</td>\n",
       "      <td>5178.959961</td>\n",
       "      <td>5187.700195</td>\n",
       "      <td>3987890000</td>\n",
       "      <td>5187.669922</td>\n",
       "      <td>0</td>\n",
       "    </tr>\n",
       "    <tr>\n",
       "      <th>2024-05-08 00:00:00-04:00</th>\n",
       "      <td>5168.979980</td>\n",
       "      <td>5191.950195</td>\n",
       "      <td>5165.859863</td>\n",
       "      <td>5187.669922</td>\n",
       "      <td>3842100000</td>\n",
       "      <td>NaN</td>\n",
       "      <td>0</td>\n",
       "    </tr>\n",
       "  </tbody>\n",
       "</table>\n",
       "<p>2353 rows × 7 columns</p>\n",
       "</div>\n",
       "    <div class=\"colab-df-buttons\">\n",
       "\n",
       "  <div class=\"colab-df-container\">\n",
       "    <button class=\"colab-df-convert\" onclick=\"convertToInteractive('df-fb3c8d14-7b75-48f3-99b2-260a1923494b')\"\n",
       "            title=\"Convert this dataframe to an interactive table.\"\n",
       "            style=\"display:none;\">\n",
       "\n",
       "  <svg xmlns=\"http://www.w3.org/2000/svg\" height=\"24px\" viewBox=\"0 -960 960 960\">\n",
       "    <path d=\"M120-120v-720h720v720H120Zm60-500h600v-160H180v160Zm220 220h160v-160H400v160Zm0 220h160v-160H400v160ZM180-400h160v-160H180v160Zm440 0h160v-160H620v160ZM180-180h160v-160H180v160Zm440 0h160v-160H620v160Z\"/>\n",
       "  </svg>\n",
       "    </button>\n",
       "\n",
       "  <style>\n",
       "    .colab-df-container {\n",
       "      display:flex;\n",
       "      gap: 12px;\n",
       "    }\n",
       "\n",
       "    .colab-df-convert {\n",
       "      background-color: #E8F0FE;\n",
       "      border: none;\n",
       "      border-radius: 50%;\n",
       "      cursor: pointer;\n",
       "      display: none;\n",
       "      fill: #1967D2;\n",
       "      height: 32px;\n",
       "      padding: 0 0 0 0;\n",
       "      width: 32px;\n",
       "    }\n",
       "\n",
       "    .colab-df-convert:hover {\n",
       "      background-color: #E2EBFA;\n",
       "      box-shadow: 0px 1px 2px rgba(60, 64, 67, 0.3), 0px 1px 3px 1px rgba(60, 64, 67, 0.15);\n",
       "      fill: #174EA6;\n",
       "    }\n",
       "\n",
       "    .colab-df-buttons div {\n",
       "      margin-bottom: 4px;\n",
       "    }\n",
       "\n",
       "    [theme=dark] .colab-df-convert {\n",
       "      background-color: #3B4455;\n",
       "      fill: #D2E3FC;\n",
       "    }\n",
       "\n",
       "    [theme=dark] .colab-df-convert:hover {\n",
       "      background-color: #434B5C;\n",
       "      box-shadow: 0px 1px 3px 1px rgba(0, 0, 0, 0.15);\n",
       "      filter: drop-shadow(0px 1px 2px rgba(0, 0, 0, 0.3));\n",
       "      fill: #FFFFFF;\n",
       "    }\n",
       "  </style>\n",
       "\n",
       "    <script>\n",
       "      const buttonEl =\n",
       "        document.querySelector('#df-fb3c8d14-7b75-48f3-99b2-260a1923494b button.colab-df-convert');\n",
       "      buttonEl.style.display =\n",
       "        google.colab.kernel.accessAllowed ? 'block' : 'none';\n",
       "\n",
       "      async function convertToInteractive(key) {\n",
       "        const element = document.querySelector('#df-fb3c8d14-7b75-48f3-99b2-260a1923494b');\n",
       "        const dataTable =\n",
       "          await google.colab.kernel.invokeFunction('convertToInteractive',\n",
       "                                                    [key], {});\n",
       "        if (!dataTable) return;\n",
       "\n",
       "        const docLinkHtml = 'Like what you see? Visit the ' +\n",
       "          '<a target=\"_blank\" href=https://colab.research.google.com/notebooks/data_table.ipynb>data table notebook</a>'\n",
       "          + ' to learn more about interactive tables.';\n",
       "        element.innerHTML = '';\n",
       "        dataTable['output_type'] = 'display_data';\n",
       "        await google.colab.output.renderOutput(dataTable, element);\n",
       "        const docLink = document.createElement('div');\n",
       "        docLink.innerHTML = docLinkHtml;\n",
       "        element.appendChild(docLink);\n",
       "      }\n",
       "    </script>\n",
       "  </div>\n",
       "\n",
       "\n",
       "<div id=\"df-7a328e35-1540-4197-8823-b12fa34795ad\">\n",
       "  <button class=\"colab-df-quickchart\" onclick=\"quickchart('df-7a328e35-1540-4197-8823-b12fa34795ad')\"\n",
       "            title=\"Suggest charts\"\n",
       "            style=\"display:none;\">\n",
       "\n",
       "<svg xmlns=\"http://www.w3.org/2000/svg\" height=\"24px\"viewBox=\"0 0 24 24\"\n",
       "     width=\"24px\">\n",
       "    <g>\n",
       "        <path d=\"M19 3H5c-1.1 0-2 .9-2 2v14c0 1.1.9 2 2 2h14c1.1 0 2-.9 2-2V5c0-1.1-.9-2-2-2zM9 17H7v-7h2v7zm4 0h-2V7h2v10zm4 0h-2v-4h2v4z\"/>\n",
       "    </g>\n",
       "</svg>\n",
       "  </button>\n",
       "\n",
       "<style>\n",
       "  .colab-df-quickchart {\n",
       "      --bg-color: #E8F0FE;\n",
       "      --fill-color: #1967D2;\n",
       "      --hover-bg-color: #E2EBFA;\n",
       "      --hover-fill-color: #174EA6;\n",
       "      --disabled-fill-color: #AAA;\n",
       "      --disabled-bg-color: #DDD;\n",
       "  }\n",
       "\n",
       "  [theme=dark] .colab-df-quickchart {\n",
       "      --bg-color: #3B4455;\n",
       "      --fill-color: #D2E3FC;\n",
       "      --hover-bg-color: #434B5C;\n",
       "      --hover-fill-color: #FFFFFF;\n",
       "      --disabled-bg-color: #3B4455;\n",
       "      --disabled-fill-color: #666;\n",
       "  }\n",
       "\n",
       "  .colab-df-quickchart {\n",
       "    background-color: var(--bg-color);\n",
       "    border: none;\n",
       "    border-radius: 50%;\n",
       "    cursor: pointer;\n",
       "    display: none;\n",
       "    fill: var(--fill-color);\n",
       "    height: 32px;\n",
       "    padding: 0;\n",
       "    width: 32px;\n",
       "  }\n",
       "\n",
       "  .colab-df-quickchart:hover {\n",
       "    background-color: var(--hover-bg-color);\n",
       "    box-shadow: 0 1px 2px rgba(60, 64, 67, 0.3), 0 1px 3px 1px rgba(60, 64, 67, 0.15);\n",
       "    fill: var(--button-hover-fill-color);\n",
       "  }\n",
       "\n",
       "  .colab-df-quickchart-complete:disabled,\n",
       "  .colab-df-quickchart-complete:disabled:hover {\n",
       "    background-color: var(--disabled-bg-color);\n",
       "    fill: var(--disabled-fill-color);\n",
       "    box-shadow: none;\n",
       "  }\n",
       "\n",
       "  .colab-df-spinner {\n",
       "    border: 2px solid var(--fill-color);\n",
       "    border-color: transparent;\n",
       "    border-bottom-color: var(--fill-color);\n",
       "    animation:\n",
       "      spin 1s steps(1) infinite;\n",
       "  }\n",
       "\n",
       "  @keyframes spin {\n",
       "    0% {\n",
       "      border-color: transparent;\n",
       "      border-bottom-color: var(--fill-color);\n",
       "      border-left-color: var(--fill-color);\n",
       "    }\n",
       "    20% {\n",
       "      border-color: transparent;\n",
       "      border-left-color: var(--fill-color);\n",
       "      border-top-color: var(--fill-color);\n",
       "    }\n",
       "    30% {\n",
       "      border-color: transparent;\n",
       "      border-left-color: var(--fill-color);\n",
       "      border-top-color: var(--fill-color);\n",
       "      border-right-color: var(--fill-color);\n",
       "    }\n",
       "    40% {\n",
       "      border-color: transparent;\n",
       "      border-right-color: var(--fill-color);\n",
       "      border-top-color: var(--fill-color);\n",
       "    }\n",
       "    60% {\n",
       "      border-color: transparent;\n",
       "      border-right-color: var(--fill-color);\n",
       "    }\n",
       "    80% {\n",
       "      border-color: transparent;\n",
       "      border-right-color: var(--fill-color);\n",
       "      border-bottom-color: var(--fill-color);\n",
       "    }\n",
       "    90% {\n",
       "      border-color: transparent;\n",
       "      border-bottom-color: var(--fill-color);\n",
       "    }\n",
       "  }\n",
       "</style>\n",
       "\n",
       "  <script>\n",
       "    async function quickchart(key) {\n",
       "      const quickchartButtonEl =\n",
       "        document.querySelector('#' + key + ' button');\n",
       "      quickchartButtonEl.disabled = true;  // To prevent multiple clicks.\n",
       "      quickchartButtonEl.classList.add('colab-df-spinner');\n",
       "      try {\n",
       "        const charts = await google.colab.kernel.invokeFunction(\n",
       "            'suggestCharts', [key], {});\n",
       "      } catch (error) {\n",
       "        console.error('Error during call to suggestCharts:', error);\n",
       "      }\n",
       "      quickchartButtonEl.classList.remove('colab-df-spinner');\n",
       "      quickchartButtonEl.classList.add('colab-df-quickchart-complete');\n",
       "    }\n",
       "    (() => {\n",
       "      let quickchartButtonEl =\n",
       "        document.querySelector('#df-7a328e35-1540-4197-8823-b12fa34795ad button');\n",
       "      quickchartButtonEl.style.display =\n",
       "        google.colab.kernel.accessAllowed ? 'block' : 'none';\n",
       "    })();\n",
       "  </script>\n",
       "</div>\n",
       "    </div>\n",
       "  </div>\n"
      ],
      "text/plain": [
       "                                  Open         High          Low        Close  \\\n",
       "Date                                                                            \n",
       "2015-01-02 00:00:00-05:00  2058.899902  2072.360107  2046.040039  2058.199951   \n",
       "2015-01-05 00:00:00-05:00  2054.439941  2054.439941  2017.339966  2020.579956   \n",
       "2015-01-06 00:00:00-05:00  2022.150024  2030.250000  1992.439941  2002.609985   \n",
       "2015-01-07 00:00:00-05:00  2005.550049  2029.609985  2005.550049  2025.900024   \n",
       "2015-01-08 00:00:00-05:00  2030.609985  2064.080078  2030.609985  2062.139893   \n",
       "...                                ...          ...          ...          ...   \n",
       "2024-05-02 00:00:00-04:00  5049.319824  5073.209961  5011.049805  5064.200195   \n",
       "2024-05-03 00:00:00-04:00  5122.779785  5139.120117  5101.220215  5127.790039   \n",
       "2024-05-06 00:00:00-04:00  5142.419922  5181.000000  5142.419922  5180.740234   \n",
       "2024-05-07 00:00:00-04:00  5187.200195  5200.229980  5178.959961  5187.700195   \n",
       "2024-05-08 00:00:00-04:00  5168.979980  5191.950195  5165.859863  5187.669922   \n",
       "\n",
       "                               Volume     Tomorrow  Target  \n",
       "Date                                                        \n",
       "2015-01-02 00:00:00-05:00  2708700000  2020.579956       0  \n",
       "2015-01-05 00:00:00-05:00  3799120000  2002.609985       0  \n",
       "2015-01-06 00:00:00-05:00  4460110000  2025.900024       1  \n",
       "2015-01-07 00:00:00-05:00  3805480000  2062.139893       1  \n",
       "2015-01-08 00:00:00-05:00  3934010000  2044.810059       0  \n",
       "...                               ...          ...     ...  \n",
       "2024-05-02 00:00:00-04:00  4381660000  5127.790039       1  \n",
       "2024-05-03 00:00:00-04:00  3924990000  5180.740234       1  \n",
       "2024-05-06 00:00:00-04:00  3683250000  5187.700195       1  \n",
       "2024-05-07 00:00:00-04:00  3987890000  5187.669922       0  \n",
       "2024-05-08 00:00:00-04:00  3842100000          NaN       0  \n",
       "\n",
       "[2353 rows x 7 columns]"
      ]
     },
     "execution_count": 11,
     "metadata": {},
     "output_type": "execute_result"
    }
   ],
   "source": [
    "sp500"
   ]
  },
  {
   "cell_type": "code",
   "execution_count": 12,
   "id": "9d894bb0",
   "metadata": {
    "colab": {
     "base_uri": "https://localhost:8080/",
     "height": 300
    },
    "id": "9d894bb0",
    "outputId": "3372854c-f75d-45ad-d523-4d902913f760"
   },
   "outputs": [
    {
     "data": {
      "application/vnd.google.colaboratory.intrinsic+json": {
       "summary": "{\n  \"name\": \"sp500\",\n  \"rows\": 8,\n  \"fields\": [\n    {\n      \"column\": \"Open\",\n      \"properties\": {\n        \"dtype\": \"number\",\n        \"std\": 1342.9218644889306,\n        \"min\": 928.9807716436733,\n        \"max\": 5257.97021484375,\n        \"num_unique_values\": 8,\n        \"samples\": [\n          3197.0646769292193,\n          2919.35009765625,\n          2353.0\n        ],\n        \"semantic_type\": \"\",\n        \"description\": \"\"\n      }\n    },\n    {\n      \"column\": \"High\",\n      \"properties\": {\n        \"dtype\": \"number\",\n        \"std\": 1345.9237413408641,\n        \"min\": 934.5388258644333,\n        \"max\": 5264.85009765625,\n        \"num_unique_values\": 8,\n        \"samples\": [\n          3214.3776682194275,\n          2932.159912109375,\n          2353.0\n        ],\n        \"semantic_type\": \"\",\n        \"description\": \"\"\n      }\n    },\n    {\n      \"column\": \"Low\",\n      \"properties\": {\n        \"dtype\": \"number\",\n        \"std\": 1340.6463430607791,\n        \"min\": 923.5703244162538,\n        \"max\": 5245.81982421875,\n        \"num_unique_values\": 8,\n        \"samples\": [\n          3178.450794043259,\n          2907.409912109375,\n          2353.0\n        ],\n        \"semantic_type\": \"\",\n        \"description\": \"\"\n      }\n    },\n    {\n      \"column\": \"Close\",\n      \"properties\": {\n        \"dtype\": \"number\",\n        \"std\": 1343.2731154323565,\n        \"min\": 929.3444122654255,\n        \"max\": 5254.35009765625,\n        \"num_unique_values\": 8,\n        \"samples\": [\n          3197.5697112790685,\n          2923.429931640625,\n          2353.0\n        ],\n        \"semantic_type\": \"\",\n        \"description\": \"\"\n      }\n    },\n    {\n      \"column\": \"Volume\",\n      \"properties\": {\n        \"dtype\": \"number\",\n        \"std\": 3084864413.3759346,\n        \"min\": 2353.0,\n        \"max\": 9976520000.0,\n        \"num_unique_values\": 8,\n        \"samples\": [\n          4016056965.5758605,\n          3824030000.0,\n          2353.0\n        ],\n        \"semantic_type\": \"\",\n        \"description\": \"\"\n      }\n    },\n    {\n      \"column\": \"Tomorrow\",\n      \"properties\": {\n        \"dtype\": \"number\",\n        \"std\": 1343.3896184205448,\n        \"min\": 929.2448516665053,\n        \"max\": 5254.35009765625,\n        \"num_unique_values\": 8,\n        \"samples\": [\n          3198.0541371974814,\n          2923.5399169921875,\n          2352.0\n        ],\n        \"semantic_type\": \"\",\n        \"description\": \"\"\n      }\n    },\n    {\n      \"column\": \"Target\",\n      \"properties\": {\n        \"dtype\": \"number\",\n        \"std\": 831.7075674311424,\n        \"min\": 0.0,\n        \"max\": 2353.0,\n        \"num_unique_values\": 5,\n        \"samples\": [\n          0.533361665958351,\n          1.0,\n          0.49899180208384514\n        ],\n        \"semantic_type\": \"\",\n        \"description\": \"\"\n      }\n    }\n  ]\n}",
       "type": "dataframe"
      },
      "text/html": [
       "\n",
       "  <div id=\"df-9f16ee05-ceac-4ce7-8bdd-d9850bd33506\" class=\"colab-df-container\">\n",
       "    <div>\n",
       "<style scoped>\n",
       "    .dataframe tbody tr th:only-of-type {\n",
       "        vertical-align: middle;\n",
       "    }\n",
       "\n",
       "    .dataframe tbody tr th {\n",
       "        vertical-align: top;\n",
       "    }\n",
       "\n",
       "    .dataframe thead th {\n",
       "        text-align: right;\n",
       "    }\n",
       "</style>\n",
       "<table border=\"1\" class=\"dataframe\">\n",
       "  <thead>\n",
       "    <tr style=\"text-align: right;\">\n",
       "      <th></th>\n",
       "      <th>Open</th>\n",
       "      <th>High</th>\n",
       "      <th>Low</th>\n",
       "      <th>Close</th>\n",
       "      <th>Volume</th>\n",
       "      <th>Tomorrow</th>\n",
       "      <th>Target</th>\n",
       "    </tr>\n",
       "  </thead>\n",
       "  <tbody>\n",
       "    <tr>\n",
       "      <th>count</th>\n",
       "      <td>2353.000000</td>\n",
       "      <td>2353.000000</td>\n",
       "      <td>2353.000000</td>\n",
       "      <td>2353.000000</td>\n",
       "      <td>2.353000e+03</td>\n",
       "      <td>2352.000000</td>\n",
       "      <td>2353.000000</td>\n",
       "    </tr>\n",
       "    <tr>\n",
       "      <th>mean</th>\n",
       "      <td>3197.064677</td>\n",
       "      <td>3214.377668</td>\n",
       "      <td>3178.450794</td>\n",
       "      <td>3197.569711</td>\n",
       "      <td>4.016057e+09</td>\n",
       "      <td>3198.054137</td>\n",
       "      <td>0.533362</td>\n",
       "    </tr>\n",
       "    <tr>\n",
       "      <th>std</th>\n",
       "      <td>928.980772</td>\n",
       "      <td>934.538826</td>\n",
       "      <td>923.570324</td>\n",
       "      <td>929.344412</td>\n",
       "      <td>9.613390e+08</td>\n",
       "      <td>929.244852</td>\n",
       "      <td>0.498992</td>\n",
       "    </tr>\n",
       "    <tr>\n",
       "      <th>min</th>\n",
       "      <td>1833.400024</td>\n",
       "      <td>1847.000000</td>\n",
       "      <td>1810.099976</td>\n",
       "      <td>1829.079956</td>\n",
       "      <td>1.296530e+09</td>\n",
       "      <td>1829.079956</td>\n",
       "      <td>0.000000</td>\n",
       "    </tr>\n",
       "    <tr>\n",
       "      <th>25%</th>\n",
       "      <td>2387.709961</td>\n",
       "      <td>2392.929932</td>\n",
       "      <td>2377.179932</td>\n",
       "      <td>2387.449951</td>\n",
       "      <td>3.423160e+09</td>\n",
       "      <td>2387.959900</td>\n",
       "      <td>0.000000</td>\n",
       "    </tr>\n",
       "    <tr>\n",
       "      <th>50%</th>\n",
       "      <td>2919.350098</td>\n",
       "      <td>2932.159912</td>\n",
       "      <td>2907.409912</td>\n",
       "      <td>2923.429932</td>\n",
       "      <td>3.824030e+09</td>\n",
       "      <td>2923.539917</td>\n",
       "      <td>1.000000</td>\n",
       "    </tr>\n",
       "    <tr>\n",
       "      <th>75%</th>\n",
       "      <td>4082.550049</td>\n",
       "      <td>4109.500000</td>\n",
       "      <td>4061.409912</td>\n",
       "      <td>4088.850098</td>\n",
       "      <td>4.362880e+09</td>\n",
       "      <td>4089.232544</td>\n",
       "      <td>1.000000</td>\n",
       "    </tr>\n",
       "    <tr>\n",
       "      <th>max</th>\n",
       "      <td>5257.970215</td>\n",
       "      <td>5264.850098</td>\n",
       "      <td>5245.819824</td>\n",
       "      <td>5254.350098</td>\n",
       "      <td>9.976520e+09</td>\n",
       "      <td>5254.350098</td>\n",
       "      <td>1.000000</td>\n",
       "    </tr>\n",
       "  </tbody>\n",
       "</table>\n",
       "</div>\n",
       "    <div class=\"colab-df-buttons\">\n",
       "\n",
       "  <div class=\"colab-df-container\">\n",
       "    <button class=\"colab-df-convert\" onclick=\"convertToInteractive('df-9f16ee05-ceac-4ce7-8bdd-d9850bd33506')\"\n",
       "            title=\"Convert this dataframe to an interactive table.\"\n",
       "            style=\"display:none;\">\n",
       "\n",
       "  <svg xmlns=\"http://www.w3.org/2000/svg\" height=\"24px\" viewBox=\"0 -960 960 960\">\n",
       "    <path d=\"M120-120v-720h720v720H120Zm60-500h600v-160H180v160Zm220 220h160v-160H400v160Zm0 220h160v-160H400v160ZM180-400h160v-160H180v160Zm440 0h160v-160H620v160ZM180-180h160v-160H180v160Zm440 0h160v-160H620v160Z\"/>\n",
       "  </svg>\n",
       "    </button>\n",
       "\n",
       "  <style>\n",
       "    .colab-df-container {\n",
       "      display:flex;\n",
       "      gap: 12px;\n",
       "    }\n",
       "\n",
       "    .colab-df-convert {\n",
       "      background-color: #E8F0FE;\n",
       "      border: none;\n",
       "      border-radius: 50%;\n",
       "      cursor: pointer;\n",
       "      display: none;\n",
       "      fill: #1967D2;\n",
       "      height: 32px;\n",
       "      padding: 0 0 0 0;\n",
       "      width: 32px;\n",
       "    }\n",
       "\n",
       "    .colab-df-convert:hover {\n",
       "      background-color: #E2EBFA;\n",
       "      box-shadow: 0px 1px 2px rgba(60, 64, 67, 0.3), 0px 1px 3px 1px rgba(60, 64, 67, 0.15);\n",
       "      fill: #174EA6;\n",
       "    }\n",
       "\n",
       "    .colab-df-buttons div {\n",
       "      margin-bottom: 4px;\n",
       "    }\n",
       "\n",
       "    [theme=dark] .colab-df-convert {\n",
       "      background-color: #3B4455;\n",
       "      fill: #D2E3FC;\n",
       "    }\n",
       "\n",
       "    [theme=dark] .colab-df-convert:hover {\n",
       "      background-color: #434B5C;\n",
       "      box-shadow: 0px 1px 3px 1px rgba(0, 0, 0, 0.15);\n",
       "      filter: drop-shadow(0px 1px 2px rgba(0, 0, 0, 0.3));\n",
       "      fill: #FFFFFF;\n",
       "    }\n",
       "  </style>\n",
       "\n",
       "    <script>\n",
       "      const buttonEl =\n",
       "        document.querySelector('#df-9f16ee05-ceac-4ce7-8bdd-d9850bd33506 button.colab-df-convert');\n",
       "      buttonEl.style.display =\n",
       "        google.colab.kernel.accessAllowed ? 'block' : 'none';\n",
       "\n",
       "      async function convertToInteractive(key) {\n",
       "        const element = document.querySelector('#df-9f16ee05-ceac-4ce7-8bdd-d9850bd33506');\n",
       "        const dataTable =\n",
       "          await google.colab.kernel.invokeFunction('convertToInteractive',\n",
       "                                                    [key], {});\n",
       "        if (!dataTable) return;\n",
       "\n",
       "        const docLinkHtml = 'Like what you see? Visit the ' +\n",
       "          '<a target=\"_blank\" href=https://colab.research.google.com/notebooks/data_table.ipynb>data table notebook</a>'\n",
       "          + ' to learn more about interactive tables.';\n",
       "        element.innerHTML = '';\n",
       "        dataTable['output_type'] = 'display_data';\n",
       "        await google.colab.output.renderOutput(dataTable, element);\n",
       "        const docLink = document.createElement('div');\n",
       "        docLink.innerHTML = docLinkHtml;\n",
       "        element.appendChild(docLink);\n",
       "      }\n",
       "    </script>\n",
       "  </div>\n",
       "\n",
       "\n",
       "<div id=\"df-df65522c-7d0d-49f6-a175-aab12189008f\">\n",
       "  <button class=\"colab-df-quickchart\" onclick=\"quickchart('df-df65522c-7d0d-49f6-a175-aab12189008f')\"\n",
       "            title=\"Suggest charts\"\n",
       "            style=\"display:none;\">\n",
       "\n",
       "<svg xmlns=\"http://www.w3.org/2000/svg\" height=\"24px\"viewBox=\"0 0 24 24\"\n",
       "     width=\"24px\">\n",
       "    <g>\n",
       "        <path d=\"M19 3H5c-1.1 0-2 .9-2 2v14c0 1.1.9 2 2 2h14c1.1 0 2-.9 2-2V5c0-1.1-.9-2-2-2zM9 17H7v-7h2v7zm4 0h-2V7h2v10zm4 0h-2v-4h2v4z\"/>\n",
       "    </g>\n",
       "</svg>\n",
       "  </button>\n",
       "\n",
       "<style>\n",
       "  .colab-df-quickchart {\n",
       "      --bg-color: #E8F0FE;\n",
       "      --fill-color: #1967D2;\n",
       "      --hover-bg-color: #E2EBFA;\n",
       "      --hover-fill-color: #174EA6;\n",
       "      --disabled-fill-color: #AAA;\n",
       "      --disabled-bg-color: #DDD;\n",
       "  }\n",
       "\n",
       "  [theme=dark] .colab-df-quickchart {\n",
       "      --bg-color: #3B4455;\n",
       "      --fill-color: #D2E3FC;\n",
       "      --hover-bg-color: #434B5C;\n",
       "      --hover-fill-color: #FFFFFF;\n",
       "      --disabled-bg-color: #3B4455;\n",
       "      --disabled-fill-color: #666;\n",
       "  }\n",
       "\n",
       "  .colab-df-quickchart {\n",
       "    background-color: var(--bg-color);\n",
       "    border: none;\n",
       "    border-radius: 50%;\n",
       "    cursor: pointer;\n",
       "    display: none;\n",
       "    fill: var(--fill-color);\n",
       "    height: 32px;\n",
       "    padding: 0;\n",
       "    width: 32px;\n",
       "  }\n",
       "\n",
       "  .colab-df-quickchart:hover {\n",
       "    background-color: var(--hover-bg-color);\n",
       "    box-shadow: 0 1px 2px rgba(60, 64, 67, 0.3), 0 1px 3px 1px rgba(60, 64, 67, 0.15);\n",
       "    fill: var(--button-hover-fill-color);\n",
       "  }\n",
       "\n",
       "  .colab-df-quickchart-complete:disabled,\n",
       "  .colab-df-quickchart-complete:disabled:hover {\n",
       "    background-color: var(--disabled-bg-color);\n",
       "    fill: var(--disabled-fill-color);\n",
       "    box-shadow: none;\n",
       "  }\n",
       "\n",
       "  .colab-df-spinner {\n",
       "    border: 2px solid var(--fill-color);\n",
       "    border-color: transparent;\n",
       "    border-bottom-color: var(--fill-color);\n",
       "    animation:\n",
       "      spin 1s steps(1) infinite;\n",
       "  }\n",
       "\n",
       "  @keyframes spin {\n",
       "    0% {\n",
       "      border-color: transparent;\n",
       "      border-bottom-color: var(--fill-color);\n",
       "      border-left-color: var(--fill-color);\n",
       "    }\n",
       "    20% {\n",
       "      border-color: transparent;\n",
       "      border-left-color: var(--fill-color);\n",
       "      border-top-color: var(--fill-color);\n",
       "    }\n",
       "    30% {\n",
       "      border-color: transparent;\n",
       "      border-left-color: var(--fill-color);\n",
       "      border-top-color: var(--fill-color);\n",
       "      border-right-color: var(--fill-color);\n",
       "    }\n",
       "    40% {\n",
       "      border-color: transparent;\n",
       "      border-right-color: var(--fill-color);\n",
       "      border-top-color: var(--fill-color);\n",
       "    }\n",
       "    60% {\n",
       "      border-color: transparent;\n",
       "      border-right-color: var(--fill-color);\n",
       "    }\n",
       "    80% {\n",
       "      border-color: transparent;\n",
       "      border-right-color: var(--fill-color);\n",
       "      border-bottom-color: var(--fill-color);\n",
       "    }\n",
       "    90% {\n",
       "      border-color: transparent;\n",
       "      border-bottom-color: var(--fill-color);\n",
       "    }\n",
       "  }\n",
       "</style>\n",
       "\n",
       "  <script>\n",
       "    async function quickchart(key) {\n",
       "      const quickchartButtonEl =\n",
       "        document.querySelector('#' + key + ' button');\n",
       "      quickchartButtonEl.disabled = true;  // To prevent multiple clicks.\n",
       "      quickchartButtonEl.classList.add('colab-df-spinner');\n",
       "      try {\n",
       "        const charts = await google.colab.kernel.invokeFunction(\n",
       "            'suggestCharts', [key], {});\n",
       "      } catch (error) {\n",
       "        console.error('Error during call to suggestCharts:', error);\n",
       "      }\n",
       "      quickchartButtonEl.classList.remove('colab-df-spinner');\n",
       "      quickchartButtonEl.classList.add('colab-df-quickchart-complete');\n",
       "    }\n",
       "    (() => {\n",
       "      let quickchartButtonEl =\n",
       "        document.querySelector('#df-df65522c-7d0d-49f6-a175-aab12189008f button');\n",
       "      quickchartButtonEl.style.display =\n",
       "        google.colab.kernel.accessAllowed ? 'block' : 'none';\n",
       "    })();\n",
       "  </script>\n",
       "</div>\n",
       "    </div>\n",
       "  </div>\n"
      ],
      "text/plain": [
       "              Open         High          Low        Close        Volume  \\\n",
       "count  2353.000000  2353.000000  2353.000000  2353.000000  2.353000e+03   \n",
       "mean   3197.064677  3214.377668  3178.450794  3197.569711  4.016057e+09   \n",
       "std     928.980772   934.538826   923.570324   929.344412  9.613390e+08   \n",
       "min    1833.400024  1847.000000  1810.099976  1829.079956  1.296530e+09   \n",
       "25%    2387.709961  2392.929932  2377.179932  2387.449951  3.423160e+09   \n",
       "50%    2919.350098  2932.159912  2907.409912  2923.429932  3.824030e+09   \n",
       "75%    4082.550049  4109.500000  4061.409912  4088.850098  4.362880e+09   \n",
       "max    5257.970215  5264.850098  5245.819824  5254.350098  9.976520e+09   \n",
       "\n",
       "          Tomorrow       Target  \n",
       "count  2352.000000  2353.000000  \n",
       "mean   3198.054137     0.533362  \n",
       "std     929.244852     0.498992  \n",
       "min    1829.079956     0.000000  \n",
       "25%    2387.959900     0.000000  \n",
       "50%    2923.539917     1.000000  \n",
       "75%    4089.232544     1.000000  \n",
       "max    5254.350098     1.000000  "
      ]
     },
     "execution_count": 12,
     "metadata": {},
     "output_type": "execute_result"
    }
   ],
   "source": [
    "sp500.describe()"
   ]
  },
  {
   "cell_type": "code",
   "execution_count": 13,
   "id": "d884d4a2",
   "metadata": {
    "colab": {
     "base_uri": "https://localhost:8080/"
    },
    "id": "d884d4a2",
    "outputId": "1c8f41f4-61e9-4c77-9389-37444068aa0e"
   },
   "outputs": [
    {
     "data": {
      "text/plain": [
       "Index(['Open', 'High', 'Low', 'Close', 'Volume', 'Tomorrow', 'Target'], dtype='object')"
      ]
     },
     "execution_count": 13,
     "metadata": {},
     "output_type": "execute_result"
    }
   ],
   "source": [
    "sp500.columns"
   ]
  },
  {
   "cell_type": "markdown",
   "id": "ffcd0ae2",
   "metadata": {
    "id": "ffcd0ae2"
   },
   "source": [
    "# Check Datatype"
   ]
  },
  {
   "cell_type": "code",
   "execution_count": 14,
   "id": "72983320",
   "metadata": {
    "colab": {
     "base_uri": "https://localhost:8080/"
    },
    "id": "72983320",
    "outputId": "ee1d7e03-78fe-4dc8-d013-0ab813774b12"
   },
   "outputs": [
    {
     "data": {
      "text/plain": [
       "Open        float64\n",
       "High        float64\n",
       "Low         float64\n",
       "Close       float64\n",
       "Volume        int64\n",
       "Tomorrow    float64\n",
       "Target        int64\n",
       "dtype: object"
      ]
     },
     "execution_count": 14,
     "metadata": {},
     "output_type": "execute_result"
    }
   ],
   "source": [
    "sp500.dtypes"
   ]
  },
  {
   "cell_type": "code",
   "execution_count": 15,
   "id": "69d1d927",
   "metadata": {
    "colab": {
     "base_uri": "https://localhost:8080/"
    },
    "id": "69d1d927",
    "outputId": "5eef60fe-784f-43ac-da1f-6e4e8196a7c0"
   },
   "outputs": [
    {
     "data": {
      "text/plain": [
       "Open        float64\n",
       "High        float64\n",
       "Low         float64\n",
       "Close       float64\n",
       "Volume      float64\n",
       "Tomorrow    float64\n",
       "Target        int64\n",
       "dtype: object"
      ]
     },
     "execution_count": 15,
     "metadata": {},
     "output_type": "execute_result"
    }
   ],
   "source": [
    "sp500['Volume'] = sp500['Volume'].astype(float)\n",
    "\n",
    "sp500.dtypes"
   ]
  },
  {
   "cell_type": "code",
   "execution_count": 16,
   "id": "f60c9e30",
   "metadata": {
    "colab": {
     "base_uri": "https://localhost:8080/"
    },
    "id": "f60c9e30",
    "outputId": "ad14c772-fa2f-4de5-8b5c-07c3917f790c"
   },
   "outputs": [
    {
     "data": {
      "text/plain": [
       "Open        0\n",
       "High        0\n",
       "Low         0\n",
       "Close       0\n",
       "Volume      0\n",
       "Tomorrow    1\n",
       "Target      0\n",
       "dtype: int64"
      ]
     },
     "execution_count": 16,
     "metadata": {},
     "output_type": "execute_result"
    }
   ],
   "source": [
    "# Null value check\n",
    "sp500.isna().sum()"
   ]
  },
  {
   "cell_type": "code",
   "execution_count": 17,
   "id": "c6c3cd97",
   "metadata": {
    "id": "c6c3cd97"
   },
   "outputs": [],
   "source": [
    "def clean_dataset(sp500):\n",
    "    assert isinstance(sp500, pd.DataFrame), \"df needs to be a pd.DataFrame\"\n",
    "    sp500.dropna(inplace=True)\n",
    "    indices_to_keep = ~sp500.isin([np.nan, np.inf, -np.inf]).any(axis=1)\n",
    "    return sp500[indices_to_keep].astype(np.float64)"
   ]
  },
  {
   "cell_type": "code",
   "execution_count": 18,
   "id": "4a2915cb",
   "metadata": {
    "id": "4a2915cb"
   },
   "outputs": [],
   "source": [
    "import numpy as np\n",
    "\n",
    "sp500 = clean_dataset(sp500)"
   ]
  },
  {
   "cell_type": "code",
   "execution_count": 19,
   "id": "d139f184",
   "metadata": {
    "colab": {
     "base_uri": "https://localhost:8080/"
    },
    "id": "d139f184",
    "outputId": "79bbf531-db5f-4521-80a5-e6c50c5fa92e"
   },
   "outputs": [
    {
     "data": {
      "text/plain": [
       "Open        0\n",
       "High        0\n",
       "Low         0\n",
       "Close       0\n",
       "Volume      0\n",
       "Tomorrow    0\n",
       "Target      0\n",
       "dtype: int64"
      ]
     },
     "execution_count": 19,
     "metadata": {},
     "output_type": "execute_result"
    }
   ],
   "source": [
    "# Null value check\n",
    "sp500.isna().sum()"
   ]
  },
  {
   "cell_type": "markdown",
   "id": "2b1bc70f",
   "metadata": {
    "id": "2b1bc70f"
   },
   "source": [
    "# Correlation"
   ]
  },
  {
   "cell_type": "code",
   "execution_count": 20,
   "id": "1dd75531",
   "metadata": {
    "id": "1dd75531"
   },
   "outputs": [],
   "source": [
    "# scatter plot of examples by class label\n",
    "X = sp500.drop(columns = ['Target']) # X contains the features\n",
    "Y= sp500['Target']"
   ]
  },
  {
   "cell_type": "code",
   "execution_count": 21,
   "id": "44da7388",
   "metadata": {
    "colab": {
     "base_uri": "https://localhost:8080/"
    },
    "id": "44da7388",
    "outputId": "94f4731a-a3af-4e6c-f42a-f70a07509f1e"
   },
   "outputs": [
    {
     "data": {
      "text/plain": [
       "(2352, 6)"
      ]
     },
     "execution_count": 21,
     "metadata": {},
     "output_type": "execute_result"
    }
   ],
   "source": [
    "X.shape\n"
   ]
  },
  {
   "cell_type": "code",
   "execution_count": 22,
   "id": "69743a08",
   "metadata": {
    "colab": {
     "base_uri": "https://localhost:8080/"
    },
    "id": "69743a08",
    "outputId": "a2d5380e-e889-43c8-a9d8-3146f71481ac"
   },
   "outputs": [
    {
     "data": {
      "text/plain": [
       "(2352,)"
      ]
     },
     "execution_count": 22,
     "metadata": {},
     "output_type": "execute_result"
    }
   ],
   "source": [
    "Y.shape"
   ]
  },
  {
   "cell_type": "code",
   "execution_count": 23,
   "id": "2df92645",
   "metadata": {
    "colab": {
     "base_uri": "https://localhost:8080/",
     "height": 622
    },
    "id": "2df92645",
    "outputId": "2645b2a6-bffd-4240-90d3-464ed45534f9"
   },
   "outputs": [
    {
     "data": {
      "image/png": "[encoded data removed]",
      "text/plain": [
       "<Figure size 700x700 with 2 Axes>"
      ]
     },
     "metadata": {},
     "output_type": "display_data"
    }
   ],
   "source": [
    "import matplotlib.pyplot as plt\n",
    "import seaborn as sns\n",
    "import numpy as np\n",
    "\n",
    "# Assuming sp500 is your DataFrame containing the S&P 500 data\n",
    "corr_matrix = X.corr()\n",
    "\n",
    "# Create a mask for the upper triangle\n",
    "mask = np.triu(np.ones_like(corr_matrix, dtype=bool))\n",
    "\n",
    "plt.figure(figsize=(7, 7))\n",
    "sns.heatmap(corr_matrix, annot=True, cmap='summer', mask=mask)\n",
    "plt.title('Correlation Matrix (Lower Triangle)')\n",
    "plt.show()\n"
   ]
  },
  {
   "cell_type": "markdown",
   "id": "8a77b457",
   "metadata": {
    "id": "8a77b457"
   },
   "source": [
    "# Checking Data Distribution"
   ]
  },
  {
   "cell_type": "code",
   "execution_count": 24,
   "id": "0fb2eb26",
   "metadata": {
    "id": "0fb2eb26"
   },
   "outputs": [],
   "source": [
    "from collections import Counter\n",
    "counter = Counter(Y)"
   ]
  },
  {
   "cell_type": "code",
   "execution_count": 25,
   "id": "7cf23875",
   "metadata": {
    "colab": {
     "base_uri": "https://localhost:8080/"
    },
    "id": "7cf23875",
    "outputId": "15621fd8-798a-4a1d-eb8a-605998a7f573"
   },
   "outputs": [
    {
     "name": "stdout",
     "output_type": "stream",
     "text": [
      "Counter({1.0: 1255, 0.0: 1097})\n"
     ]
    }
   ],
   "source": [
    "print(counter)"
   ]
  },
  {
   "cell_type": "code",
   "execution_count": 26,
   "id": "eae5e4ad",
   "metadata": {
    "colab": {
     "base_uri": "https://localhost:8080/",
     "height": 466
    },
    "id": "eae5e4ad",
    "outputId": "7dc942de-0aec-4df4-9519-bb09461d0b5c"
   },
   "outputs": [
    {
     "name": "stdout",
     "output_type": "stream",
     "text": [
      "Class=0, n=1097 (46.641%)\n",
      "Class=1, n=1255 (53.359%)\n"
     ]
    },
    {
     "data": {
      "image/png": "[encoded data removed]",
      "text/plain": [
       "<Figure size 640x480 with 1 Axes>"
      ]
     },
     "metadata": {},
     "output_type": "display_data"
    }
   ],
   "source": [
    "for k,v in counter.items():\n",
    "    per = v / len(Y) * 100\n",
    "    print('Class=%d, n=%d (%.3f%%)' % (k, v, per))\n",
    "# plot the distribution\n",
    "plt.bar(counter.keys(), counter.values(), color=['red', 'green'])\n",
    "plt.show()"
   ]
  },
  {
   "cell_type": "markdown",
   "id": "b80c3dd2",
   "metadata": {
    "id": "b80c3dd2"
   },
   "source": [
    "# Random Forest"
   ]
  },
  {
   "cell_type": "code",
   "execution_count": 27,
   "id": "6a707bc9",
   "metadata": {
    "id": "6a707bc9"
   },
   "outputs": [],
   "source": [
    "from sklearn.model_selection import train_test_split\n",
    "\n",
    "X_train, X_test, y_train, y_test = train_test_split(X, Y,\n",
    "                                                    stratify=Y,\n",
    "                                                    test_size=0.20,\n",
    "                                                    random_state =42)"
   ]
  },
  {
   "cell_type": "code",
   "execution_count": 28,
   "id": "df497b7c",
   "metadata": {
    "colab": {
     "base_uri": "https://localhost:8080/"
    },
    "id": "df497b7c",
    "outputId": "3d1737b6-100c-4863-fec7-892f26aaa6d6"
   },
   "outputs": [
    {
     "data": {
      "text/plain": [
       "(1881, 6)"
      ]
     },
     "execution_count": 28,
     "metadata": {},
     "output_type": "execute_result"
    }
   ],
   "source": [
    "X_train.shape"
   ]
  },
  {
   "cell_type": "code",
   "execution_count": 29,
   "id": "c5fc0c34",
   "metadata": {
    "colab": {
     "base_uri": "https://localhost:8080/"
    },
    "id": "c5fc0c34",
    "outputId": "bf2e2c98-60f0-4b6a-e683-37a24a3a627f"
   },
   "outputs": [
    {
     "data": {
      "text/plain": [
       "(471,)"
      ]
     },
     "execution_count": 29,
     "metadata": {},
     "output_type": "execute_result"
    }
   ],
   "source": [
    "y_test.shape"
   ]
  },
  {
   "cell_type": "code",
   "execution_count": 30,
   "id": "e73a3e30",
   "metadata": {
    "id": "e73a3e30"
   },
   "outputs": [],
   "source": [
    "from sklearn.metrics import classification_report\n",
    "from sklearn.metrics import confusion_matrix, accuracy_score,precision_score,recall_score,f1_score\n",
    "from sklearn import metrics\n",
    "from sklearn.metrics import roc_auc_score"
   ]
  },
  {
   "cell_type": "code",
   "execution_count": 31,
   "id": "72bc5c7b",
   "metadata": {
    "colab": {
     "base_uri": "https://localhost:8080/"
    },
    "id": "72bc5c7b",
    "outputId": "703b07cf-7e94-4f14-ccc0-509277c7cbee"
   },
   "outputs": [
    {
     "name": "stdout",
     "output_type": "stream",
     "text": [
      "Train Accuracy 1.0\n",
      "Test Accuracy 0.8131634819532909\n",
      "Precision Score :  0.8131634819532909\n",
      "Recall Score :  0.8131634819532909\n",
      "F1-Score Score :  0.8131634819532909\n",
      "              precision    recall  f1-score   support\n",
      "\n",
      "         0.0       0.81      0.78      0.80       220\n",
      "         1.0       0.81      0.84      0.83       251\n",
      "\n",
      "    accuracy                           0.81       471\n",
      "   macro avg       0.81      0.81      0.81       471\n",
      "weighted avg       0.81      0.81      0.81       471\n",
      "\n"
     ]
    }
   ],
   "source": [
    "from sklearn.ensemble import RandomForestClassifier\n",
    "RFclassifer = RandomForestClassifier()\n",
    "RFclassifer.fit(X_train, y_train)\n",
    "y_pred = RFclassifer.predict(X_test)\n",
    "y_train_pred = RFclassifer.predict(X_train)\n",
    "print('Train Accuracy %s' % RFclassifer.score(X_train, y_train))\n",
    "print('Test Accuracy %s' % accuracy_score(y_test, y_pred))\n",
    "print(\"Precision Score : \",precision_score(y_test, y_pred,\n",
    "                                           average='micro'))\n",
    "print(\"Recall Score : \",recall_score(y_test, y_pred,\n",
    "                                           average='micro'))\n",
    "print(\"F1-Score Score : \",f1_score(y_test, y_pred,\n",
    "                                           average='micro'))\n",
    "\n",
    "print(classification_report(y_test, y_pred))"
   ]
  },
  {
   "cell_type": "code",
   "execution_count": 32,
   "id": "5a2ced96",
   "metadata": {
    "colab": {
     "base_uri": "https://localhost:8080/",
     "height": 563
    },
    "id": "5a2ced96",
    "outputId": "606c88d5-6a89-44b7-b408-5ffc988a6854"
   },
   "outputs": [
    {
     "data": {
      "image/png": "[encoded data removed]",
      "text/plain": [
       "<Figure size 600x600 with 2 Axes>"
      ]
     },
     "metadata": {},
     "output_type": "display_data"
    }
   ],
   "source": [
    "#importing confusion matrix\n",
    "conf_matrix = confusion_matrix(y_test, y_pred)\n",
    "\n",
    "plt.figure(figsize=(6,6))\n",
    "sns.set(font_scale = 1.2)\n",
    "\n",
    "ax = sns.heatmap(\n",
    "    conf_matrix, annot=True, fmt='d'\n",
    ")\n",
    "\n",
    "ax.set_xlabel(\"Predicted\", labelpad=10)\n",
    "ax.set_ylabel(\"Actual\", labelpad=10)\n",
    "plt.show()"
   ]
  },
  {
   "cell_type": "markdown",
   "id": "c9e3b4e2",
   "metadata": {
    "id": "c9e3b4e2"
   },
   "source": [
    "# Apply Random Search With RF"
   ]
  },
  {
   "cell_type": "code",
   "execution_count": 33,
   "id": "246b7f39",
   "metadata": {
    "id": "246b7f39"
   },
   "outputs": [],
   "source": [
    "#creating Search Space\n",
    "from scipy.stats import randint\n",
    "\n",
    "random_forest_space = {\n",
    "    'n_estimators': np.arange(1, 500, step=50),\n",
    "    'criterion': ['gini', 'entropy'],\n",
    "    'max_depth': list(np.arange(10, 100, step=10)) + [None],\n",
    "    'min_samples_split': np.arange(2, 10, step=2),\n",
    "    'min_samples_leaf': randint(1, 4),\n",
    "    'max_features': randint(1, 7)\n",
    "}"
   ]
  },
  {
   "cell_type": "code",
   "execution_count": 34,
   "id": "b52a7975",
   "metadata": {
    "colab": {
     "base_uri": "https://localhost:8080/"
    },
    "id": "b52a7975",
    "outputId": "6b90011f-d2ff-4cb7-da7e-d1264f4b1878"
   },
   "outputs": [
    {
     "name": "stdout",
     "output_type": "stream",
     "text": [
      "Best hyperparamete are: {'criterion': 'entropy', 'max_depth': 40, 'max_features': 6, 'min_samples_leaf': 2, 'min_samples_split': 4, 'n_estimators': 151}\n",
      "Best score is: 0.8011696484000226\n"
     ]
    }
   ],
   "source": [
    "#finding best hyperparameter\n",
    "from sklearn.model_selection import RandomizedSearchCV\n",
    "\n",
    "rf = RandomForestClassifier()\n",
    "rf_random = RandomizedSearchCV(rf, random_forest_space, n_iter=500, scoring='accuracy', n_jobs=-1, cv=5)\n",
    "model_random = rf_random.fit(X_train, y_train)\n",
    "\n",
    "print('Best hyperparamete are: '+str(model_random.best_params_))\n",
    "print('Best score is: '+str(model_random.best_score_))"
   ]
  },
  {
   "cell_type": "code",
   "execution_count": 35,
   "id": "9d08b274",
   "metadata": {
    "colab": {
     "base_uri": "https://localhost:8080/"
    },
    "id": "9d08b274",
    "outputId": "38573c59-4428-4c11-fc2f-c67956bfcea1"
   },
   "outputs": [
    {
     "name": "stdout",
     "output_type": "stream",
     "text": [
      "Train Accuracy : 0.9973418394471026\n",
      "Test Accuracy : 0.8471337579617835\n",
      "Precision Score :  0.8471337579617835\n",
      "Recall Score :  0.8471337579617835\n",
      "F1-Score Score :  0.8471337579617836\n",
      "              precision    recall  f1-score   support\n",
      "\n",
      "         0.0       0.85      0.82      0.83       220\n",
      "         1.0       0.85      0.87      0.86       251\n",
      "\n",
      "    accuracy                           0.85       471\n",
      "   macro avg       0.85      0.85      0.85       471\n",
      "weighted avg       0.85      0.85      0.85       471\n",
      "\n"
     ]
    }
   ],
   "source": [
    "# create a Random Forest Classifier object with the best hyperparameters\n",
    "rf = RandomForestClassifier(**model_random.best_params_)\n",
    "\n",
    "# fit the model on the training data\n",
    "rf.fit(X_train, y_train)\n",
    "\n",
    "y_pred = rf.predict(X_test)\n",
    "y_train_pred = rf.predict(X_train)\n",
    "print('Train Accuracy : %s' % rf.score(X_train, y_train))\n",
    "print('Test Accuracy : %s' % accuracy_score(y_test, y_pred))\n",
    "print(\"Precision Score : \",precision_score(y_test, y_pred,\n",
    "                                           average='micro'))\n",
    "print(\"Recall Score : \",recall_score(y_test, y_pred,\n",
    "                                           average='micro'))\n",
    "print(\"F1-Score Score : \",f1_score(y_test, y_pred,\n",
    "                                           average='micro'))\n",
    "print(classification_report(y_test, y_pred))"
   ]
  },
  {
   "cell_type": "markdown",
   "id": "882c432e",
   "metadata": {
    "id": "882c432e"
   },
   "source": [
    "# Xgboost"
   ]
  },
  {
   "cell_type": "code",
   "execution_count": 36,
   "id": "8cde9abb",
   "metadata": {
    "colab": {
     "base_uri": "https://localhost:8080/"
    },
    "id": "8cde9abb",
    "outputId": "458e0bda-b0c9-49fd-d1b0-ac3d468af951"
   },
   "outputs": [
    {
     "name": "stdout",
     "output_type": "stream",
     "text": [
      "Train Accuracy : 0.9760765550239234\n",
      "Test Accuracy : 0.8131634819532909\n",
      "Precision Score :  0.8131634819532909\n",
      "Recall Score :  0.8131634819532909\n",
      "F1-Score Score :  0.8131634819532909\n",
      "              precision    recall  f1-score   support\n",
      "\n",
      "         0.0       0.82      0.76      0.79       220\n",
      "         1.0       0.81      0.86      0.83       251\n",
      "\n",
      "    accuracy                           0.81       471\n",
      "   macro avg       0.81      0.81      0.81       471\n",
      "weighted avg       0.81      0.81      0.81       471\n",
      "\n"
     ]
    }
   ],
   "source": [
    "from xgboost import XGBClassifier\n",
    "XGclassifer = XGBClassifier()\n",
    "XGclassifer.fit(X_train, y_train)\n",
    "y_pred = XGclassifer.predict(X_test)\n",
    "y_train_pred = XGclassifer.predict(X_train)\n",
    "print('Train Accuracy : %s' % XGclassifer.score(X_train, y_train))\n",
    "print('Test Accuracy : %s' % accuracy_score(y_test, y_pred))\n",
    "print(\"Precision Score : \",precision_score(y_test, y_pred,\n",
    "                                           average='micro'))\n",
    "print(\"Recall Score : \",recall_score(y_test, y_pred,\n",
    "                                           average='micro'))\n",
    "print(\"F1-Score Score : \",f1_score(y_test, y_pred,\n",
    "                                           average='micro'))\n",
    "\n",
    "print(classification_report(y_test, y_pred))"
   ]
  },
  {
   "cell_type": "markdown",
   "id": "XeHG8OVhMfr1",
   "metadata": {
    "id": "XeHG8OVhMfr1"
   },
   "source": [
    "# Apply Random Search With XGB"
   ]
  },
  {
   "cell_type": "code",
   "execution_count": 37,
   "id": "OMkgSaE8Mjno",
   "metadata": {
    "id": "OMkgSaE8Mjno"
   },
   "outputs": [],
   "source": [
    "from scipy.stats import randint, uniform\n",
    "\n",
    "xgboost_space = {\n",
    "    'max_depth': randint(1, 11),\n",
    "    'learning_rate': uniform(0.01, 0.5),\n",
    "    'n_estimators': randint(50, 500),\n",
    "    'min_child_weight': randint(1, 5),\n",
    "    'subsample': uniform(0.6, 0.4),\n",
    "    'colsample_bytree': uniform(0.6, 0.4),\n",
    "    'gamma': uniform(0, 0.5),\n",
    "    'reg_alpha': uniform(0, 1),\n",
    "    'reg_lambda': uniform(0, 1),\n",
    "}"
   ]
  },
  {
   "cell_type": "code",
   "execution_count": 38,
   "id": "v1IemcsLMmrR",
   "metadata": {
    "colab": {
     "base_uri": "https://localhost:8080/"
    },
    "id": "v1IemcsLMmrR",
    "outputId": "f5ac8e04-f4a4-4ee1-cf79-22a48fad0a14"
   },
   "outputs": [
    {
     "name": "stdout",
     "output_type": "stream",
     "text": [
      "Best hyperparamete are: {'colsample_bytree': 0.9261531666759274, 'gamma': 0.34962818733302625, 'learning_rate': 0.11276207261040487, 'max_depth': 5, 'min_child_weight': 1, 'n_estimators': 439, 'reg_alpha': 0.015282383842023739, 'reg_lambda': 0.22885731255219377, 'subsample': 0.8489515100811132}\n",
      "Best score is: 0.7921313279530448\n"
     ]
    }
   ],
   "source": [
    "#finding best hyperparameter\n",
    "from sklearn.model_selection import RandomizedSearchCV\n",
    "\n",
    "XGB = XGBClassifier()\n",
    "XGB_random = RandomizedSearchCV(XGB, xgboost_space, n_iter=500, scoring='accuracy', n_jobs=-1, cv=5)\n",
    "model_random = XGB_random.fit(X_train, y_train)\n",
    "\n",
    "print('Best hyperparamete are: '+str(model_random.best_params_))\n",
    "print('Best score is: '+str(model_random.best_score_))"
   ]
  },
  {
   "cell_type": "code",
   "execution_count": 39,
   "id": "IlTlJUxBMmou",
   "metadata": {
    "colab": {
     "base_uri": "https://localhost:8080/"
    },
    "id": "IlTlJUxBMmou",
    "outputId": "f46b1a7d-3938-4284-869d-faf38ab7db0a"
   },
   "outputs": [
    {
     "name": "stdout",
     "output_type": "stream",
     "text": [
      "Train Accuracy : 0.9824561403508771\n",
      "Test Accuracy : 0.8259023354564756\n",
      "Precision Score :  0.8259023354564756\n",
      "Recall Score :  0.8259023354564756\n",
      "F1-Score Score :  0.8259023354564756\n",
      "              precision    recall  f1-score   support\n",
      "\n",
      "         0.0       0.83      0.80      0.81       220\n",
      "         1.0       0.83      0.85      0.84       251\n",
      "\n",
      "    accuracy                           0.83       471\n",
      "   macro avg       0.83      0.82      0.82       471\n",
      "weighted avg       0.83      0.83      0.83       471\n",
      "\n"
     ]
    }
   ],
   "source": [
    "# create a Random Forest Classifier object with the best hyperparameters\n",
    "XGB = XGBClassifier(**model_random.best_params_)\n",
    "\n",
    "# fit the model on the training data\n",
    "XGB.fit(X_train, y_train)\n",
    "\n",
    "y_pred = XGB.predict(X_test)\n",
    "y_train_pred = XGB.predict(X_train)\n",
    "print('Train Accuracy : %s' % XGB.score(X_train, y_train))\n",
    "print('Test Accuracy : %s' % accuracy_score(y_test, y_pred))\n",
    "print(\"Precision Score : \",precision_score(y_test, y_pred,\n",
    "                                           average='micro'))\n",
    "print(\"Recall Score : \",recall_score(y_test, y_pred,\n",
    "                                           average='micro'))\n",
    "print(\"F1-Score Score : \",f1_score(y_test, y_pred,\n",
    "                                           average='micro'))\n",
    "\n",
    "print(classification_report(y_test, y_pred))"
   ]
  },
  {
   "cell_type": "markdown",
   "id": "51cf4946",
   "metadata": {
    "id": "51cf4946"
   },
   "source": [
    "# SVM"
   ]
  },
  {
   "cell_type": "code",
   "execution_count": 40,
   "id": "2b4ffca6",
   "metadata": {
    "colab": {
     "base_uri": "https://localhost:8080/"
    },
    "id": "2b4ffca6",
    "outputId": "168d7009-0ff4-426c-f58b-99e86af32921"
   },
   "outputs": [
    {
     "name": "stdout",
     "output_type": "stream",
     "text": [
      "Train Accuracy : 0.5337586390217969\n",
      "Test Accuracy : 0.5329087048832272\n",
      "Precision Score :  0.5329087048832272\n",
      "Recall Score :  0.5329087048832272\n",
      "F1-Score Score :  0.5329087048832272\n",
      "              precision    recall  f1-score   support\n",
      "\n",
      "         0.0       0.00      0.00      0.00       220\n",
      "         1.0       0.53      1.00      0.70       251\n",
      "\n",
      "    accuracy                           0.53       471\n",
      "   macro avg       0.27      0.50      0.35       471\n",
      "weighted avg       0.28      0.53      0.37       471\n",
      "\n"
     ]
    },
    {
     "name": "stderr",
     "output_type": "stream",
     "text": [
      "/usr/local/lib/python3.10/dist-packages/sklearn/metrics/_classification.py:1344: UndefinedMetricWarning: Precision and F-score are ill-defined and being set to 0.0 in labels with no predicted samples. Use `zero_division` parameter to control this behavior.\n",
      "  _warn_prf(average, modifier, msg_start, len(result))\n",
      "/usr/local/lib/python3.10/dist-packages/sklearn/metrics/_classification.py:1344: UndefinedMetricWarning: Precision and F-score are ill-defined and being set to 0.0 in labels with no predicted samples. Use `zero_division` parameter to control this behavior.\n",
      "  _warn_prf(average, modifier, msg_start, len(result))\n",
      "/usr/local/lib/python3.10/dist-packages/sklearn/metrics/_classification.py:1344: UndefinedMetricWarning: Precision and F-score are ill-defined and being set to 0.0 in labels with no predicted samples. Use `zero_division` parameter to control this behavior.\n",
      "  _warn_prf(average, modifier, msg_start, len(result))\n"
     ]
    }
   ],
   "source": [
    "from sklearn.svm import SVC\n",
    "SVMclassifer = SVC(probability=True)\n",
    "SVMclassifer .fit(X_train, y_train)\n",
    "y_pred = SVMclassifer.predict(X_test)\n",
    "y_train_pred = SVMclassifer.predict(X_train)\n",
    "print('Train Accuracy : %s' % SVMclassifer.score(X_train, y_train))\n",
    "print('Test Accuracy : %s' % accuracy_score(y_test, y_pred))\n",
    "print(\"Precision Score : \",precision_score(y_test, y_pred,\n",
    "                                           average='micro'))\n",
    "print(\"Recall Score : \",recall_score(y_test, y_pred,\n",
    "                                           average='micro'))\n",
    "print(\"F1-Score Score : \",f1_score(y_test, y_pred,\n",
    "                                           average='micro'))\n",
    "\n",
    "print(classification_report(y_test, y_pred))"
   ]
  },
  {
   "cell_type": "markdown",
   "id": "33b8438a",
   "metadata": {
    "id": "33b8438a"
   },
   "source": [
    "# LSTM"
   ]
  },
  {
   "cell_type": "code",
   "execution_count": 41,
   "id": "6382104a",
   "metadata": {
    "colab": {
     "base_uri": "https://localhost:8080/"
    },
    "id": "6382104a",
    "outputId": "e5cf58ec-4346-4a83-b587-c3f603206f61"
   },
   "outputs": [
    {
     "name": "stdout",
     "output_type": "stream",
     "text": [
      "Requirement already satisfied: tensorflow in /usr/local/lib/python3.10/dist-packages (2.15.0)\n",
      "Collecting tensorflow\n",
      "  Downloading tensorflow-2.16.1-cp310-cp310-manylinux_2_17_x86_64.manylinux2014_x86_64.whl (589.8 MB)\n",
      "\u001b[2K     \u001b[90m━━━━━━━━━━━━━━━━━━━━━━━━━━━━━━━━━━━━━━━━\u001b[0m \u001b[32m589.8/589.8 MB\u001b[0m \u001b[31m1.7 MB/s\u001b[0m eta \u001b[36m0:00:00\u001b[0m\n",
      "\u001b[?25hRequirement already satisfied: absl-py>=1.0.0 in /usr/local/lib/python3.10/dist-packages (from tensorflow) (1.4.0)\n",
      "Requirement already satisfied: astunparse>=1.6.0 in /usr/local/lib/python3.10/dist-packages (from tensorflow) (1.6.3)\n",
      "Requirement already satisfied: flatbuffers>=23.5.26 in /usr/local/lib/python3.10/dist-packages (from tensorflow) (24.3.25)\n",
      "Requirement already satisfied: gast!=0.5.0,!=0.5.1,!=0.5.2,>=0.2.1 in /usr/local/lib/python3.10/dist-packages (from tensorflow) (0.5.4)\n",
      "Requirement already satisfied: google-pasta>=0.1.1 in /usr/local/lib/python3.10/dist-packages (from tensorflow) (0.2.0)\n",
      "Collecting h5py>=3.10.0 (from tensorflow)\n",
      "  Downloading h5py-3.11.0-cp310-cp310-manylinux_2_17_x86_64.manylinux2014_x86_64.whl (5.3 MB)\n",
      "\u001b[2K     \u001b[90m━━━━━━━━━━━━━━━━━━━━━━━━━━━━━━━━━━━━━━━━\u001b[0m \u001b[32m5.3/5.3 MB\u001b[0m \u001b[31m57.4 MB/s\u001b[0m eta \u001b[36m0:00:00\u001b[0m\n",
      "\u001b[?25hRequirement already satisfied: libclang>=13.0.0 in /usr/local/lib/python3.10/dist-packages (from tensorflow) (18.1.1)\n",
      "Collecting ml-dtypes~=0.3.1 (from tensorflow)\n",
      "  Downloading ml_dtypes-0.3.2-cp310-cp310-manylinux_2_17_x86_64.manylinux2014_x86_64.whl (2.2 MB)\n",
      "\u001b[2K     \u001b[90m━━━━━━━━━━━━━━━━━━━━━━━━━━━━━━━━━━━━━━━━\u001b[0m \u001b[32m2.2/2.2 MB\u001b[0m \u001b[31m94.6 MB/s\u001b[0m eta \u001b[36m0:00:00\u001b[0m\n",
      "\u001b[?25hRequirement already satisfied: opt-einsum>=2.3.2 in /usr/local/lib/python3.10/dist-packages (from tensorflow) (3.3.0)\n",
      "Requirement already satisfied: packaging in /usr/local/lib/python3.10/dist-packages (from tensorflow) (24.0)\n",
      "Requirement already satisfied: protobuf!=4.21.0,!=4.21.1,!=4.21.2,!=4.21.3,!=4.21.4,!=4.21.5,<5.0.0dev,>=3.20.3 in /usr/local/lib/python3.10/dist-packages (from tensorflow) (3.20.3)\n",
      "Requirement already satisfied: requests<3,>=2.21.0 in /usr/local/lib/python3.10/dist-packages (from tensorflow) (2.31.0)\n",
      "Requirement already satisfied: setuptools in /usr/local/lib/python3.10/dist-packages (from tensorflow) (67.7.2)\n",
      "Requirement already satisfied: six>=1.12.0 in /usr/local/lib/python3.10/dist-packages (from tensorflow) (1.16.0)\n",
      "Requirement already satisfied: termcolor>=1.1.0 in /usr/local/lib/python3.10/dist-packages (from tensorflow) (2.4.0)\n",
      "Requirement already satisfied: typing-extensions>=3.6.6 in /usr/local/lib/python3.10/dist-packages (from tensorflow) (4.11.0)\n",
      "Requirement already satisfied: wrapt>=1.11.0 in /usr/local/lib/python3.10/dist-packages (from tensorflow) (1.14.1)\n",
      "Requirement already satisfied: grpcio<2.0,>=1.24.3 in /usr/local/lib/python3.10/dist-packages (from tensorflow) (1.63.0)\n",
      "Collecting tensorboard<2.17,>=2.16 (from tensorflow)\n",
      "  Downloading tensorboard-2.16.2-py3-none-any.whl (5.5 MB)\n",
      "\u001b[2K     \u001b[90m━━━━━━━━━━━━━━━━━━━━━━━━━━━━━━━━━━━━━━━━\u001b[0m \u001b[32m5.5/5.5 MB\u001b[0m \u001b[31m53.9 MB/s\u001b[0m eta \u001b[36m0:00:00\u001b[0m\n",
      "\u001b[?25hCollecting keras>=3.0.0 (from tensorflow)\n",
      "  Downloading keras-3.3.3-py3-none-any.whl (1.1 MB)\n",
      "\u001b[2K     \u001b[90m━━━━━━━━━━━━━━━━━━━━━━━━━━━━━━━━━━━━━━━━\u001b[0m \u001b[32m1.1/1.1 MB\u001b[0m \u001b[31m75.3 MB/s\u001b[0m eta \u001b[36m0:00:00\u001b[0m\n",
      "\u001b[?25hRequirement already satisfied: tensorflow-io-gcs-filesystem>=0.23.1 in /usr/local/lib/python3.10/dist-packages (from tensorflow) (0.37.0)\n",
      "Requirement already satisfied: numpy<2.0.0,>=1.23.5 in /usr/local/lib/python3.10/dist-packages (from tensorflow) (1.25.2)\n",
      "Requirement already satisfied: wheel<1.0,>=0.23.0 in /usr/local/lib/python3.10/dist-packages (from astunparse>=1.6.0->tensorflow) (0.43.0)\n",
      "Requirement already satisfied: rich in /usr/local/lib/python3.10/dist-packages (from keras>=3.0.0->tensorflow) (13.7.1)\n",
      "Collecting namex (from keras>=3.0.0->tensorflow)\n",
      "  Downloading namex-0.0.8-py3-none-any.whl (5.8 kB)\n",
      "Collecting optree (from keras>=3.0.0->tensorflow)\n",
      "  Downloading optree-0.11.0-cp310-cp310-manylinux_2_17_x86_64.manylinux2014_x86_64.whl (311 kB)\n",
      "\u001b[2K     \u001b[90m━━━━━━━━━━━━━━━━━━━━━━━━━━━━━━━━━━━━━━━━\u001b[0m \u001b[32m311.2/311.2 kB\u001b[0m \u001b[31m38.9 MB/s\u001b[0m eta \u001b[36m0:00:00\u001b[0m\n",
      "\u001b[?25hRequirement already satisfied: charset-normalizer<4,>=2 in /usr/local/lib/python3.10/dist-packages (from requests<3,>=2.21.0->tensorflow) (3.3.2)\n",
      "Requirement already satisfied: idna<4,>=2.5 in /usr/local/lib/python3.10/dist-packages (from requests<3,>=2.21.0->tensorflow) (3.7)\n",
      "Requirement already satisfied: urllib3<3,>=1.21.1 in /usr/local/lib/python3.10/dist-packages (from requests<3,>=2.21.0->tensorflow) (2.0.7)\n",
      "Requirement already satisfied: certifi>=2017.4.17 in /usr/local/lib/python3.10/dist-packages (from requests<3,>=2.21.0->tensorflow) (2024.2.2)\n",
      "Requirement already satisfied: markdown>=2.6.8 in /usr/local/lib/python3.10/dist-packages (from tensorboard<2.17,>=2.16->tensorflow) (3.6)\n",
      "Requirement already satisfied: tensorboard-data-server<0.8.0,>=0.7.0 in /usr/local/lib/python3.10/dist-packages (from tensorboard<2.17,>=2.16->tensorflow) (0.7.2)\n",
      "Requirement already satisfied: werkzeug>=1.0.1 in /usr/local/lib/python3.10/dist-packages (from tensorboard<2.17,>=2.16->tensorflow) (3.0.2)\n",
      "Requirement already satisfied: MarkupSafe>=2.1.1 in /usr/local/lib/python3.10/dist-packages (from werkzeug>=1.0.1->tensorboard<2.17,>=2.16->tensorflow) (2.1.5)\n",
      "Requirement already satisfied: markdown-it-py>=2.2.0 in /usr/local/lib/python3.10/dist-packages (from rich->keras>=3.0.0->tensorflow) (3.0.0)\n",
      "Requirement already satisfied: pygments<3.0.0,>=2.13.0 in /usr/local/lib/python3.10/dist-packages (from rich->keras>=3.0.0->tensorflow) (2.16.1)\n",
      "Requirement already satisfied: mdurl~=0.1 in /usr/local/lib/python3.10/dist-packages (from markdown-it-py>=2.2.0->rich->keras>=3.0.0->tensorflow) (0.1.2)\n",
      "Installing collected packages: namex, optree, ml-dtypes, h5py, tensorboard, keras, tensorflow\n",
      "  Attempting uninstall: ml-dtypes\n",
      "    Found existing installation: ml-dtypes 0.2.0\n",
      "    Uninstalling ml-dtypes-0.2.0:\n",
      "      Successfully uninstalled ml-dtypes-0.2.0\n",
      "  Attempting uninstall: h5py\n",
      "    Found existing installation: h5py 3.9.0\n",
      "    Uninstalling h5py-3.9.0:\n",
      "      Successfully uninstalled h5py-3.9.0\n",
      "  Attempting uninstall: tensorboard\n",
      "    Found existing installation: tensorboard 2.15.2\n",
      "    Uninstalling tensorboard-2.15.2:\n",
      "      Successfully uninstalled tensorboard-2.15.2\n",
      "  Attempting uninstall: keras\n",
      "    Found existing installation: keras 2.15.0\n",
      "    Uninstalling keras-2.15.0:\n",
      "      Successfully uninstalled keras-2.15.0\n",
      "  Attempting uninstall: tensorflow\n",
      "    Found existing installation: tensorflow 2.15.0\n",
      "    Uninstalling tensorflow-2.15.0:\n",
      "      Successfully uninstalled tensorflow-2.15.0\n",
      "\u001b[31mERROR: pip's dependency resolver does not currently take into account all the packages that are installed. This behaviour is the source of the following dependency conflicts.\n",
      "tf-keras 2.15.1 requires tensorflow<2.16,>=2.15, but you have tensorflow 2.16.1 which is incompatible.\u001b[0m\u001b[31m\n",
      "\u001b[0mSuccessfully installed h5py-3.11.0 keras-3.3.3 ml-dtypes-0.3.2 namex-0.0.8 optree-0.11.0 tensorboard-2.16.2 tensorflow-2.16.1\n"
     ]
    }
   ],
   "source": [
    "pip install --upgrade tensorflow\n"
   ]
  },
  {
   "cell_type": "code",
   "execution_count": 42,
   "id": "ec49ddfe",
   "metadata": {
    "colab": {
     "base_uri": "https://localhost:8080/"
    },
    "id": "ec49ddfe",
    "outputId": "c231ce7b-fb45-4c30-b910-a676c6133df4"
   },
   "outputs": [
    {
     "name": "stdout",
     "output_type": "stream",
     "text": [
      "Epoch 1/50\n"
     ]
    },
    {
     "name": "stderr",
     "output_type": "stream",
     "text": [
      "/usr/local/lib/python3.10/dist-packages/keras/src/layers/rnn/rnn.py:204: UserWarning: Do not pass an `input_shape`/`input_dim` argument to a layer. When using Sequential models, prefer using an `Input(shape)` object as the first layer in the model instead.\n",
      "  super().__init__(**kwargs)\n"
     ]
    },
    {
     "name": "stdout",
     "output_type": "stream",
     "text": [
      "59/59 - 2s - 27ms/step - loss: 0.3549 - val_loss: 0.2960\n",
      "Epoch 2/50\n",
      "59/59 - 0s - 3ms/step - loss: 0.2837 - val_loss: 0.2753\n",
      "Epoch 3/50\n",
      "59/59 - 0s - 4ms/step - loss: 0.2679 - val_loss: 0.2614\n",
      "Epoch 4/50\n",
      "59/59 - 0s - 6ms/step - loss: 0.2581 - val_loss: 0.2544\n",
      "Epoch 5/50\n",
      "59/59 - 0s - 4ms/step - loss: 0.2544 - val_loss: 0.2508\n",
      "Epoch 6/50\n",
      "59/59 - 0s - 3ms/step - loss: 0.2506 - val_loss: 0.2492\n",
      "Epoch 7/50\n",
      "59/59 - 0s - 5ms/step - loss: 0.2516 - val_loss: 0.2486\n",
      "Epoch 8/50\n",
      "59/59 - 0s - 6ms/step - loss: 0.2513 - val_loss: 0.2483\n",
      "Epoch 9/50\n",
      "59/59 - 0s - 3ms/step - loss: 0.2495 - val_loss: 0.2481\n",
      "Epoch 10/50\n",
      "59/59 - 0s - 5ms/step - loss: 0.2505 - val_loss: 0.2482\n",
      "Epoch 11/50\n",
      "59/59 - 0s - 5ms/step - loss: 0.2503 - val_loss: 0.2486\n",
      "Epoch 12/50\n",
      "59/59 - 0s - 5ms/step - loss: 0.2514 - val_loss: 0.2478\n",
      "Epoch 13/50\n",
      "59/59 - 0s - 5ms/step - loss: 0.2489 - val_loss: 0.2490\n",
      "Epoch 14/50\n",
      "59/59 - 0s - 6ms/step - loss: 0.2495 - val_loss: 0.2486\n",
      "Epoch 15/50\n",
      "59/59 - 0s - 5ms/step - loss: 0.2502 - val_loss: 0.2478\n",
      "Epoch 16/50\n",
      "59/59 - 1s - 10ms/step - loss: 0.2502 - val_loss: 0.2485\n",
      "Epoch 17/50\n",
      "59/59 - 0s - 4ms/step - loss: 0.2490 - val_loss: 0.2476\n",
      "Epoch 18/50\n",
      "59/59 - 0s - 6ms/step - loss: 0.2502 - val_loss: 0.2477\n",
      "Epoch 19/50\n",
      "59/59 - 0s - 4ms/step - loss: 0.2503 - val_loss: 0.2474\n",
      "Epoch 20/50\n",
      "59/59 - 0s - 5ms/step - loss: 0.2492 - val_loss: 0.2490\n",
      "Epoch 21/50\n",
      "59/59 - 1s - 10ms/step - loss: 0.2483 - val_loss: 0.2471\n",
      "Epoch 22/50\n",
      "59/59 - 0s - 6ms/step - loss: 0.2501 - val_loss: 0.2474\n",
      "Epoch 23/50\n",
      "59/59 - 0s - 6ms/step - loss: 0.2495 - val_loss: 0.2471\n",
      "Epoch 24/50\n",
      "59/59 - 1s - 13ms/step - loss: 0.2484 - val_loss: 0.2473\n",
      "Epoch 25/50\n",
      "59/59 - 1s - 9ms/step - loss: 0.2492 - val_loss: 0.2472\n",
      "Epoch 26/50\n",
      "59/59 - 1s - 10ms/step - loss: 0.2482 - val_loss: 0.2468\n",
      "Epoch 27/50\n",
      "59/59 - 0s - 7ms/step - loss: 0.2477 - val_loss: 0.2469\n",
      "Epoch 28/50\n",
      "59/59 - 1s - 11ms/step - loss: 0.2496 - val_loss: 0.2471\n",
      "Epoch 29/50\n",
      "59/59 - 1s - 9ms/step - loss: 0.2494 - val_loss: 0.2465\n",
      "Epoch 30/50\n",
      "59/59 - 0s - 4ms/step - loss: 0.2486 - val_loss: 0.2464\n",
      "Epoch 31/50\n",
      "59/59 - 0s - 6ms/step - loss: 0.2493 - val_loss: 0.2468\n",
      "Epoch 32/50\n",
      "59/59 - 1s - 12ms/step - loss: 0.2470 - val_loss: 0.2468\n",
      "Epoch 33/50\n",
      "59/59 - 1s - 14ms/step - loss: 0.2474 - val_loss: 0.2463\n",
      "Epoch 34/50\n",
      "59/59 - 0s - 7ms/step - loss: 0.2479 - val_loss: 0.2463\n",
      "Epoch 35/50\n",
      "59/59 - 0s - 7ms/step - loss: 0.2483 - val_loss: 0.2475\n",
      "Epoch 36/50\n",
      "59/59 - 1s - 10ms/step - loss: 0.2480 - val_loss: 0.2461\n",
      "Epoch 37/50\n",
      "59/59 - 0s - 8ms/step - loss: 0.2477 - val_loss: 0.2462\n",
      "Epoch 38/50\n",
      "59/59 - 0s - 6ms/step - loss: 0.2481 - val_loss: 0.2457\n",
      "Epoch 39/50\n",
      "59/59 - 0s - 6ms/step - loss: 0.2455 - val_loss: 0.2456\n",
      "Epoch 40/50\n",
      "59/59 - 1s - 12ms/step - loss: 0.2469 - val_loss: 0.2456\n",
      "Epoch 41/50\n",
      "59/59 - 0s - 4ms/step - loss: 0.2467 - val_loss: 0.2453\n",
      "Epoch 42/50\n",
      "59/59 - 0s - 5ms/step - loss: 0.2485 - val_loss: 0.2457\n",
      "Epoch 43/50\n",
      "59/59 - 0s - 5ms/step - loss: 0.2476 - val_loss: 0.2457\n",
      "Epoch 44/50\n",
      "59/59 - 0s - 6ms/step - loss: 0.2460 - val_loss: 0.2446\n",
      "Epoch 45/50\n",
      "59/59 - 0s - 6ms/step - loss: 0.2470 - val_loss: 0.2462\n",
      "Epoch 46/50\n",
      "59/59 - 0s - 6ms/step - loss: 0.2457 - val_loss: 0.2447\n",
      "Epoch 47/50\n",
      "59/59 - 0s - 4ms/step - loss: 0.2458 - val_loss: 0.2454\n",
      "Epoch 48/50\n",
      "59/59 - 0s - 7ms/step - loss: 0.2457 - val_loss: 0.2444\n",
      "Epoch 49/50\n",
      "59/59 - 1s - 8ms/step - loss: 0.2443 - val_loss: 0.2458\n",
      "Epoch 50/50\n",
      "59/59 - 0s - 6ms/step - loss: 0.2456 - val_loss: 0.2439\n",
      "\u001b[1m59/59\u001b[0m \u001b[32m━━━━━━━━━━━━━━━━━━━━\u001b[0m\u001b[37m\u001b[0m \u001b[1m0s\u001b[0m 4ms/step\n",
      "\u001b[1m15/15\u001b[0m \u001b[32m━━━━━━━━━━━━━━━━━━━━\u001b[0m\u001b[37m\u001b[0m \u001b[1m0s\u001b[0m 5ms/step\n"
     ]
    }
   ],
   "source": [
    "from keras.models import Sequential\n",
    "from keras.layers import LSTM, Dense, Dropout\n",
    "from sklearn.preprocessing import MinMaxScaler\n",
    "\n",
    "# Normalize the data\n",
    "scaler = MinMaxScaler()\n",
    "X_train_scaled = scaler.fit_transform(X_train)\n",
    "X_test_scaled = scaler.transform(X_test)\n",
    "\n",
    "# Reshape input data to be 3-dimensional for LSTM\n",
    "X_train_reshaped = X_train_scaled.reshape((X_train_scaled.shape[0], 1, X_train_scaled.shape[1]))\n",
    "X_test_reshaped = X_test_scaled.reshape((X_test_scaled.shape[0], 1, X_test_scaled.shape[1]))\n",
    "\n",
    "# Define the LSTM model\n",
    "model = Sequential()\n",
    "model.add(LSTM(50, input_shape=(X_train_reshaped.shape[1], X_train_reshaped.shape[2])))\n",
    "model.add(Dropout(0.2))\n",
    "model.add(Dense(1))\n",
    "\n",
    "# Compile the model\n",
    "model.compile(optimizer='adam', loss='mse')\n",
    "\n",
    "# Fit the model\n",
    "model.fit(X_train_reshaped, y_train, epochs=50, batch_size=32, validation_data=(X_test_reshaped, y_test), verbose=2)\n",
    "\n",
    "# Predictions\n",
    "y_train_pred = model.predict(X_train_reshaped)\n",
    "y_test_pred = model.predict(X_test_reshaped)\n"
   ]
  },
  {
   "cell_type": "code",
   "execution_count": 43,
   "id": "d92f6b9b",
   "metadata": {
    "colab": {
     "base_uri": "https://localhost:8080/"
    },
    "id": "d92f6b9b",
    "outputId": "39e216cd-9cb3-4cff-81c0-29c4dbf24e91"
   },
   "outputs": [
    {
     "name": "stdout",
     "output_type": "stream",
     "text": [
      "Train Mean Squared Error: 0.24350360740485516\n",
      "Test Mean Squared Error: 0.24390111881602752\n",
      "Train Mean Absolute Error: 0.4924012338272249\n",
      "Test Mean Absolute Error: 0.49277087837267836\n"
     ]
    }
   ],
   "source": [
    "from sklearn.metrics import mean_squared_error, mean_absolute_error\n",
    "\n",
    "# Compute Mean Squared Error\n",
    "train_mse = mean_squared_error(y_train, y_train_pred)\n",
    "test_mse = mean_squared_error(y_test, y_test_pred)\n",
    "\n",
    "# Compute Mean Absolute Error\n",
    "train_mae = mean_absolute_error(y_train, y_train_pred)\n",
    "test_mae = mean_absolute_error(y_test, y_test_pred)\n",
    "\n",
    "print(\"Train Mean Squared Error:\", train_mse)\n",
    "print(\"Test Mean Squared Error:\", test_mse)\n",
    "print(\"Train Mean Absolute Error:\", train_mae)\n",
    "print(\"Test Mean Absolute Error:\", test_mae)\n"
   ]
  },
  {
   "cell_type": "code",
   "execution_count": 55,
   "id": "sglZ3gr7co0T",
   "metadata": {
    "colab": {
     "base_uri": "https://localhost:8080/"
    },
    "id": "sglZ3gr7co0T",
    "outputId": "3876f662-02a3-445c-c6af-faca2284561b"
   },
   "outputs": [
    {
     "name": "stdout",
     "output_type": "stream",
     "text": [
      "Train Accuracy : 0.2435036152601242\n",
      "Test Accuracy : 0.24390113353729248\n",
      "Precision Score : 0.5711252653927813\n",
      "Recall Score : 0.5711252653927813\n",
      "F1-Score : 0.5711252653927813\n",
      "              precision    recall  f1-score   support\n",
      "\n",
      "         0.0       0.75      0.12      0.21       220\n",
      "         1.0       0.56      0.96      0.71       251\n",
      "\n",
      "    accuracy                           0.57       471\n",
      "   macro avg       0.65      0.54      0.46       471\n",
      "weighted avg       0.65      0.57      0.47       471\n",
      "\n"
     ]
    }
   ],
   "source": [
    "# Evaluate LSTM model\n",
    "train_accuracy = model.evaluate(X_train_reshaped, y_train, verbose=0)\n",
    "test_accuracy = model.evaluate(X_test_reshaped, y_test, verbose=0)\n",
    "\n",
    "# Check if the accuracy values are floats\n",
    "if isinstance(train_accuracy, float):\n",
    "    # If so, just use them directly\n",
    "    print('Train Accuracy :', train_accuracy)\n",
    "else:\n",
    "    # Otherwise, extract the accuracy value\n",
    "    print('Train Accuracy :', train_accuracy[1])\n",
    "\n",
    "if isinstance(test_accuracy, float):\n",
    "    print('Test Accuracy :', test_accuracy)\n",
    "else:\n",
    "    print('Test Accuracy :', test_accuracy[1])\n",
    "\n",
    "y_train_pred_labels = (y_train_pred > 0.5).astype(int)\n",
    "y_test_pred_labels = (y_test_pred > 0.5).astype(int)\n",
    "\n",
    "precision = precision_score(y_test, y_test_pred_labels, average='micro')\n",
    "recall = recall_score(y_test, y_test_pred_labels, average='micro')\n",
    "f1 = f1_score(y_test, y_test_pred_labels, average='micro')\n",
    "\n",
    "print('Precision Score :', precision)\n",
    "print('Recall Score :', recall)\n",
    "print('F1-Score :', f1)\n",
    "\n",
    "print(classification_report(y_test, y_test_pred_labels))\n"
   ]
  },
  {
   "cell_type": "markdown",
   "id": "a6C-_jz9gbyY",
   "metadata": {
    "id": "a6C-_jz9gbyY"
   },
   "source": [
    "\n",
    "\n",
    "# Naive Bayes"
   ]
  },
  {
   "cell_type": "code",
   "execution_count": 57,
   "id": "VO7hh_6Ngh_v",
   "metadata": {
    "colab": {
     "base_uri": "https://localhost:8080/"
    },
    "id": "VO7hh_6Ngh_v",
    "outputId": "30005e59-b7bc-4303-e36e-554b45c51b3f"
   },
   "outputs": [
    {
     "name": "stdout",
     "output_type": "stream",
     "text": [
      "Train Accuracy : 0.507177033492823\n",
      "Test Accuracy : 0.5095541401273885\n",
      "Precision Score :  0.5095541401273885\n",
      "Recall Score :  0.5095541401273885\n",
      "F1-Score Score :  0.5095541401273885\n",
      "              precision    recall  f1-score   support\n",
      "\n",
      "         0.0       0.48      0.50      0.49       220\n",
      "         1.0       0.54      0.52      0.53       251\n",
      "\n",
      "    accuracy                           0.51       471\n",
      "   macro avg       0.51      0.51      0.51       471\n",
      "weighted avg       0.51      0.51      0.51       471\n",
      "\n"
     ]
    }
   ],
   "source": [
    "from sklearn.naive_bayes import MultinomialNB\n",
    "NBclassifer = MultinomialNB()\n",
    "NBclassifer .fit(X_train, y_train)\n",
    "y_pred = NBclassifer.predict(X_test)\n",
    "y_train_pred = NBclassifer.predict(X_train)\n",
    "print('Train Accuracy : %s' % NBclassifer.score(X_train, y_train))\n",
    "print('Test Accuracy : %s' % accuracy_score(y_test, y_pred))\n",
    "print(\"Precision Score : \",precision_score(y_test, y_pred,\n",
    "                                           average='micro'))\n",
    "print(\"Recall Score : \",recall_score(y_test, y_pred,\n",
    "                                           average='micro'))\n",
    "print(\"F1-Score Score : \",f1_score(y_test, y_pred,\n",
    "                                           average='micro'))\n",
    "\n",
    "print(classification_report(y_test, y_pred))"
   ]
  },
  {
   "cell_type": "markdown",
   "id": "a2_4_VX1g0qV",
   "metadata": {
    "id": "a2_4_VX1g0qV"
   },
   "source": [
    "# AdaBoost"
   ]
  },
  {
   "cell_type": "code",
   "execution_count": 58,
   "id": "HVQq32r3g3BV",
   "metadata": {
    "colab": {
     "base_uri": "https://localhost:8080/"
    },
    "id": "HVQq32r3g3BV",
    "outputId": "d14362dc-ce42-425d-b9c5-ed22ed0b8e13"
   },
   "outputs": [
    {
     "name": "stdout",
     "output_type": "stream",
     "text": [
      "Train Accuracy : 0.6496544391281234\n",
      "Test Accuracy : 0.5690021231422505\n",
      "Precision Score :  0.5690021231422505\n",
      "Recall Score :  0.5690021231422505\n",
      "F1-Score Score :  0.5690021231422505\n",
      "              precision    recall  f1-score   support\n",
      "\n",
      "         0.0       0.56      0.36      0.44       220\n",
      "         1.0       0.57      0.75      0.65       251\n",
      "\n",
      "    accuracy                           0.57       471\n",
      "   macro avg       0.57      0.56      0.55       471\n",
      "weighted avg       0.57      0.57      0.55       471\n",
      "\n"
     ]
    }
   ],
   "source": [
    "from sklearn.ensemble import AdaBoostClassifier\n",
    "ADBclassifer = AdaBoostClassifier()\n",
    "ADBclassifer.fit(X_train, y_train)\n",
    "y_pred = ADBclassifer.predict(X_test)\n",
    "y_train_pred = ADBclassifer.predict(X_train)\n",
    "print('Train Accuracy : %s' % ADBclassifer.score(X_train, y_train))\n",
    "print('Test Accuracy : %s' % accuracy_score(y_test, y_pred))\n",
    "print(\"Precision Score : \",precision_score(y_test, y_pred,\n",
    "                                           average='micro'))\n",
    "print(\"Recall Score : \",recall_score(y_test, y_pred,\n",
    "                                           average='micro'))\n",
    "print(\"F1-Score Score : \",f1_score(y_test, y_pred,\n",
    "                                           average='micro'))\n",
    "\n",
    "print(classification_report(y_test, y_pred))"
   ]
  },
  {
   "cell_type": "markdown",
   "id": "yZdARYMkhFNF",
   "metadata": {
    "id": "yZdARYMkhFNF"
   },
   "source": [
    "# Logistics Regression"
   ]
  },
  {
   "cell_type": "code",
   "execution_count": 59,
   "id": "1OgZi1lMhH1w",
   "metadata": {
    "colab": {
     "base_uri": "https://localhost:8080/"
    },
    "id": "1OgZi1lMhH1w",
    "outputId": "bef21507-46b8-465b-bf2b-7a204dc28ae5"
   },
   "outputs": [
    {
     "name": "stdout",
     "output_type": "stream",
     "text": [
      "Train Accuracy : 0.5337586390217969\n",
      "Test Accuracy : 0.5329087048832272\n",
      "Precision Score :  0.5329087048832272\n",
      "Recall Score :  0.5329087048832272\n",
      "F1-Score Score :  0.5329087048832272\n",
      "              precision    recall  f1-score   support\n",
      "\n",
      "         0.0       0.00      0.00      0.00       220\n",
      "         1.0       0.53      1.00      0.70       251\n",
      "\n",
      "    accuracy                           0.53       471\n",
      "   macro avg       0.27      0.50      0.35       471\n",
      "weighted avg       0.28      0.53      0.37       471\n",
      "\n"
     ]
    },
    {
     "name": "stderr",
     "output_type": "stream",
     "text": [
      "/usr/local/lib/python3.10/dist-packages/sklearn/metrics/_classification.py:1344: UndefinedMetricWarning: Precision and F-score are ill-defined and being set to 0.0 in labels with no predicted samples. Use `zero_division` parameter to control this behavior.\n",
      "  _warn_prf(average, modifier, msg_start, len(result))\n",
      "/usr/local/lib/python3.10/dist-packages/sklearn/metrics/_classification.py:1344: UndefinedMetricWarning: Precision and F-score are ill-defined and being set to 0.0 in labels with no predicted samples. Use `zero_division` parameter to control this behavior.\n",
      "  _warn_prf(average, modifier, msg_start, len(result))\n",
      "/usr/local/lib/python3.10/dist-packages/sklearn/metrics/_classification.py:1344: UndefinedMetricWarning: Precision and F-score are ill-defined and being set to 0.0 in labels with no predicted samples. Use `zero_division` parameter to control this behavior.\n",
      "  _warn_prf(average, modifier, msg_start, len(result))\n"
     ]
    }
   ],
   "source": [
    "from sklearn.linear_model import LogisticRegression\n",
    "LRclassifer = LogisticRegression()\n",
    "LRclassifer.fit(X_train, y_train)\n",
    "y_pred = LRclassifer.predict(X_test)\n",
    "y_train_pred = LRclassifer.predict(X_train)\n",
    "print('Train Accuracy : %s' % LRclassifer.score(X_train, y_train))\n",
    "print('Test Accuracy : %s' % accuracy_score(y_test, y_pred))\n",
    "print(\"Precision Score : \",precision_score(y_test, y_pred,\n",
    "                                           average='micro'))\n",
    "print(\"Recall Score : \",recall_score(y_test, y_pred,\n",
    "                                           average='micro'))\n",
    "print(\"F1-Score Score : \",f1_score(y_test, y_pred,\n",
    "                                           average='micro'))\n",
    "\n",
    "print(classification_report(y_test, y_pred))"
   ]
  },
  {
   "cell_type": "code",
   "execution_count": null,
   "id": "-UcjyN-hhKv4",
   "metadata": {
    "id": "-UcjyN-hhKv4"
   },
   "outputs": [],
   "source": []
  },
  {
   "cell_type": "markdown",
   "id": "j6FBi5QFhSZJ",
   "metadata": {
    "id": "j6FBi5QFhSZJ"
   },
   "source": [
    "# Decision Tree\n"
   ]
  },
  {
   "cell_type": "code",
   "execution_count": 61,
   "id": "YHjsWg05hTm6",
   "metadata": {
    "colab": {
     "base_uri": "https://localhost:8080/"
    },
    "id": "YHjsWg05hTm6",
    "outputId": "eac1a604-fb2f-426b-e885-cfb057865e2c"
   },
   "outputs": [
    {
     "name": "stdout",
     "output_type": "stream",
     "text": [
      "Train Accuracy : 1.0\n",
      "Test Accuracy : 0.7558386411889597\n",
      "Precision Score :  0.7558386411889597\n",
      "Recall Score :  0.7558386411889597\n",
      "F1-Score Score :  0.7558386411889597\n",
      "              precision    recall  f1-score   support\n",
      "\n",
      "         0.0       0.73      0.76      0.75       220\n",
      "         1.0       0.78      0.75      0.77       251\n",
      "\n",
      "    accuracy                           0.76       471\n",
      "   macro avg       0.76      0.76      0.76       471\n",
      "weighted avg       0.76      0.76      0.76       471\n",
      "\n"
     ]
    }
   ],
   "source": [
    "from sklearn.tree import DecisionTreeClassifier\n",
    "DTclassifer= DecisionTreeClassifier()\n",
    "DTclassifer.fit(X_train, y_train)\n",
    "y_pred = DTclassifer.predict(X_test)\n",
    "y_train_pred = DTclassifer.predict(X_train)\n",
    "print('Train Accuracy : %s' % DTclassifer.score(X_train, y_train))\n",
    "print('Test Accuracy : %s' % accuracy_score(y_test, y_pred))\n",
    "print(\"Precision Score : \",precision_score(y_test, y_pred,\n",
    "                                           average='micro'))\n",
    "print(\"Recall Score : \",recall_score(y_test, y_pred,\n",
    "                                           average='micro'))\n",
    "print(\"F1-Score Score : \",f1_score(y_test, y_pred,\n",
    "                                           average='micro'))\n",
    "\n",
    "print(classification_report(y_test, y_pred))"
   ]
  },
  {
   "cell_type": "markdown",
   "id": "PiYtRHqqhhtb",
   "metadata": {
    "id": "PiYtRHqqhhtb"
   },
   "source": [
    "# Apply Random Search With DT"
   ]
  },
  {
   "cell_type": "code",
   "execution_count": 62,
   "id": "sWG1_m19hlCZ",
   "metadata": {
    "colab": {
     "base_uri": "https://localhost:8080/"
    },
    "id": "sWG1_m19hlCZ",
    "outputId": "91c77479-8202-4ba2-fdef-1c506f58d218"
   },
   "outputs": [
    {
     "data": {
      "text/plain": [
       "{'ccp_alpha': 0.0,\n",
       " 'class_weight': None,\n",
       " 'criterion': 'gini',\n",
       " 'max_depth': None,\n",
       " 'max_features': None,\n",
       " 'max_leaf_nodes': None,\n",
       " 'min_impurity_decrease': 0.0,\n",
       " 'min_samples_leaf': 1,\n",
       " 'min_samples_split': 2,\n",
       " 'min_weight_fraction_leaf': 0.0,\n",
       " 'random_state': None,\n",
       " 'splitter': 'best'}"
      ]
     },
     "execution_count": 62,
     "metadata": {},
     "output_type": "execute_result"
    }
   ],
   "source": [
    "DTclassifer.get_params()"
   ]
  },
  {
   "cell_type": "code",
   "execution_count": 63,
   "id": "lI9kpGkShqLj",
   "metadata": {
    "id": "lI9kpGkShqLj"
   },
   "outputs": [],
   "source": [
    "decision_tree_space = {\n",
    "    'criterion': ['gini', 'entropy'],\n",
    "    'splitter': ['best', 'random'],\n",
    "    'max_depth': [None] + list(randint(1, 20).rvs(10)),\n",
    "    'min_samples_split': randint(1, 20),\n",
    "    'min_samples_leaf': randint(1, 20),\n",
    "    'max_features': [None, 'auto', 'sqrt', 'log2']\n",
    "}"
   ]
  },
  {
   "cell_type": "code",
   "execution_count": 64,
   "id": "chWZLgXthsvn",
   "metadata": {
    "colab": {
     "base_uri": "https://localhost:8080/"
    },
    "id": "chWZLgXthsvn",
    "outputId": "b295bb78-0998-4f7e-96a6-348e4c9761be"
   },
   "outputs": [
    {
     "name": "stderr",
     "output_type": "stream",
     "text": [
      "/usr/local/lib/python3.10/dist-packages/joblib/externals/loky/backend/fork_exec.py:38: RuntimeWarning: os.fork() was called. os.fork() is incompatible with multithreaded code, and JAX is multithreaded, so this will likely lead to a deadlock.\n",
      "  pid = os.fork()\n"
     ]
    },
    {
     "name": "stdout",
     "output_type": "stream",
     "text": [
      "Best hyperparameters are: {'criterion': 'gini', 'max_depth': None, 'max_features': None, 'min_samples_leaf': 8, 'min_samples_split': 7, 'splitter': 'best'}\n",
      "Best score is: 0.7113070715051639\n"
     ]
    },
    {
     "name": "stderr",
     "output_type": "stream",
     "text": [
      "/usr/local/lib/python3.10/dist-packages/sklearn/model_selection/_validation.py:378: FitFailedWarning: \n",
      "85 fits failed out of a total of 2500.\n",
      "The score on these train-test partitions for these parameters will be set to nan.\n",
      "If these failures are not expected, you can try to debug them by setting error_score='raise'.\n",
      "\n",
      "Below are more details about the failures:\n",
      "--------------------------------------------------------------------------------\n",
      "85 fits failed with the following error:\n",
      "Traceback (most recent call last):\n",
      "  File \"/usr/local/lib/python3.10/dist-packages/sklearn/model_selection/_validation.py\", line 686, in _fit_and_score\n",
      "    estimator.fit(X_train, y_train, **fit_params)\n",
      "  File \"/usr/local/lib/python3.10/dist-packages/sklearn/tree/_classes.py\", line 889, in fit\n",
      "    super().fit(\n",
      "  File \"/usr/local/lib/python3.10/dist-packages/sklearn/tree/_classes.py\", line 177, in fit\n",
      "    self._validate_params()\n",
      "  File \"/usr/local/lib/python3.10/dist-packages/sklearn/base.py\", line 600, in _validate_params\n",
      "    validate_parameter_constraints(\n",
      "  File \"/usr/local/lib/python3.10/dist-packages/sklearn/utils/_param_validation.py\", line 97, in validate_parameter_constraints\n",
      "    raise InvalidParameterError(\n",
      "sklearn.utils._param_validation.InvalidParameterError: The 'min_samples_split' parameter of DecisionTreeClassifier must be an int in the range [2, inf) or a float in the range (0.0, 1.0]. Got 1 instead.\n",
      "\n",
      "  warnings.warn(some_fits_failed_message, FitFailedWarning)\n",
      "/usr/local/lib/python3.10/dist-packages/sklearn/model_selection/_search.py:952: UserWarning: One or more of the test scores are non-finite: [0.55449659 0.65126418 0.57203849 0.54704413 0.5411973  0.57628817\n",
      " 0.5316313  0.56298747 0.53641712 0.53854055 0.55130792 0.5635335\n",
      " 0.51941983 0.55768384 0.58534342 0.52950364 0.54651363        nan\n",
      " 0.54651363 0.54385547 0.54866386 0.58963119        nan 0.53855043\n",
      " 0.59384841 0.54652209 0.66667842 0.60499182 0.54438738 0.56405836\n",
      " 0.56405694 0.55449094 0.54545262 0.57948671 0.5252582  0.5874485\n",
      " 0.53801287 0.53800581 0.53268666 0.55926124 0.53215334 0.53800722\n",
      " 0.55237598 0.57258028 0.5470399  0.54386534 0.60022575 0.54227383\n",
      " 0.53907246 0.61723574 0.52098454 0.5454371  0.54653056 0.54120577\n",
      " 0.56034342 0.56993482 0.53322704 0.53641148 0.53640584 0.53375896\n",
      " 0.54119589 0.53481291 0.54385688 0.52631215 0.54172357 0.53003556\n",
      " 0.57201168 0.54385688 0.54492071 0.5832214  0.60605565 0.64646566\n",
      "        nan 0.55130792 0.56511654 0.56512501 0.56299876 0.53322704\n",
      " 0.57150234 0.53588239 0.55182713 0.55341582 0.54385688        nan\n",
      " 0.52737316 0.53853914 0.53746543 0.54440149 0.71130707 0.58162566\n",
      " 0.53640442 0.54013347 0.56726536 0.54970512 0.5656541  0.53110221\n",
      " 0.60499746 0.58000028 0.62413088 0.55182431 0.52365258 0.55290507\n",
      " 0.57575484 0.53322987 0.52577177 0.59436481 0.64912382 0.53216321\n",
      " 0.53694481 0.5326909  0.58322281 0.53747249 0.65712089        nan\n",
      " 0.5300285  0.52152068 0.52419578 0.55023844 0.5922442  0.577352\n",
      " 0.54119025 0.53269513 0.70228145 0.52473898 0.54173204 0.61033495\n",
      " 0.53375049 0.54545403 0.54491647 0.60873074 0.53056888 0.53800299\n",
      " 0.54916192 0.55394492 0.56670946 0.56777612 0.59810373 0.56512219\n",
      " 0.61298183 0.53375896 0.54385688 0.5672442  0.54654044        nan\n",
      " 0.53375896 0.53853773 0.5411973  0.56405836 0.53854337 0.52469101\n",
      " 0.55926971 0.62199052 0.57897314 0.54491506 0.55769372 0.5438597\n",
      " 0.5497023  0.62625995 0.55608528 0.56353208 0.56352785 0.66932248\n",
      " 0.60497912 0.54864834 0.67462187 0.54385547 0.59596196 0.53108528\n",
      " 0.65178763 0.53268102 0.55183842 0.58478611 0.56034342 0.53109938\n",
      "        nan 0.53322704 0.52843134 0.55396326 0.53906823 0.52736469\n",
      " 0.53853773 0.56140584 0.53429087 0.54385688 0.52950928 0.53003556\n",
      " 0.53746684 0.5390513  0.53534624 0.61081748 0.53960438 0.54757182\n",
      " 0.54172781 0.59384418        nan 0.55078447 0.54278881 0.55395056\n",
      "        nan 0.56937609 0.52842147 0.5311008  0.56299594 0.53853067\n",
      " 0.5672442  0.53640442 0.53696033 0.56777471 0.56352785 0.52737598\n",
      "        nan 0.54385688 0.55395621 0.54119871 0.53853632 0.56192787\n",
      " 0.61297618 0.54598454 0.54651081 0.5273788  0.54279305 0.59809809\n",
      " 0.54651645 0.53162142 0.55131074 0.61935352 0.55236187 0.53693916\n",
      " 0.53110503 0.56192505 0.56299735 0.65605847 0.58956911 0.54226113\n",
      " 0.51728935 0.53533213 0.53216604 0.52046532        nan 0.56618319\n",
      " 0.55289096 0.54652492 0.53269795 0.54332214 0.58053784 0.5480995\n",
      " 0.5481122  0.54385688 0.53481432 0.53958604 0.66296207        nan\n",
      " 0.54916474 0.56195186 0.52791495 0.55342288 0.57842006 0.53429087\n",
      " 0.53162142 0.53533918 0.63636774        nan 0.54385688 0.52417461\n",
      " 0.56617614 0.63954794        nan 0.60286698        nan 0.54971923\n",
      " 0.5316313  0.53269795 0.56990519 0.53854337 0.54704413 0.53375896\n",
      " 0.53322704 0.52418308 0.64489672 0.54757464 0.59384136 0.5730868\n",
      " 0.53852785 0.54598595 0.60393786 0.53747108 0.5619307  0.55182713\n",
      " 0.53694057 0.52685535 0.53375896 0.53588662 0.52418449 0.54173204\n",
      " 0.53481856 0.54439726 0.56726395 0.54119589 0.54172922 0.55022998\n",
      " 0.56724279 0.56513065 0.53800299 0.54385829 0.5353547  0.53215475\n",
      " 0.54330944 0.56829392 0.66664597 0.56140584 0.54917179 0.63478187\n",
      " 0.54066257 0.53587674 0.59860743 0.60342006 0.54439161 0.56087392\n",
      " 0.52897878 0.56512501 0.55182996 0.55237316 0.53269513 0.54705401\n",
      " 0.53427959 0.52684407 0.55130651 0.53268525 0.54279023 0.63477764\n",
      " 0.53216321 0.5396072  0.61986427 0.55979175 0.57365399 0.53269513\n",
      " 0.52843276 0.59488543 0.53853773 0.54278881 0.57363    0.56193493\n",
      " 0.55395479 0.5948939  0.60234635 0.56511795 0.53374062 0.54278458\n",
      " 0.58320729 0.57151504 0.54438597 0.52842288 0.56723997 0.61935211\n",
      " 0.58373497 0.53374485 0.53586969 0.53162425 0.52790507 0.56461567\n",
      " 0.54226536 0.6076528  0.53376037 0.53321858 0.55289661 0.51621141\n",
      " 0.53375896 0.61139032 0.52633049 0.65495795 0.53428241 0.53056042\n",
      " 0.53534483 0.53694057 0.53960156 0.53003556 0.59437609 0.54278176\n",
      " 0.54491365 0.5864016  0.58639737 0.52047237 0.59436904 0.54863282\n",
      " 0.53374203 0.53004543 0.53056747 0.53269513 0.53693775 0.62045968\n",
      " 0.53109938 0.53906823 0.52843981 0.52098877 0.5310881  0.53481291\n",
      " 0.52099441 0.61935634 0.553413   0.53322704 0.54598595 0.53269513\n",
      " 0.54013488 0.550776   0.55185253 0.53800581 0.54598595 0.62894492\n",
      " 0.61773943 0.53695045 0.53003556 0.61561459 0.54597325 0.5316313\n",
      " 0.56565269 0.55980304 0.53056888 0.54544557 0.54385688 0.54385688\n",
      " 0.61247108 0.54545403 0.63689401 0.5438597  0.58848129 0.5465094\n",
      " 0.54544839 0.54278881 0.59116767 0.5358838  0.52684407 0.54174192\n",
      " 0.53216321 0.54490378 0.54332355 0.54172216 0.53695045 0.7001552\n",
      " 0.52523562 0.54548225 0.52471923 0.53746684 0.52524832 0.53641571\n",
      " 0.56618319 0.52896326 0.54013065        nan 0.53375049 0.53375896\n",
      " 0.54545403 0.53586263 0.54385688 0.56138467 0.54172922 0.56352785\n",
      " 0.52843981 0.55131356 0.53376601 0.58639173 0.51993623 0.55820165\n",
      " 0.58746825 0.60182855 0.536918   0.54915204 0.52470371 0.53429229\n",
      " 0.56670946 0.54385405 0.53110221 0.54970089 0.59754783 0.53641007\n",
      " 0.53162001 0.55235482 0.65337209 0.60980586 0.54598877 0.54492071\n",
      " 0.54864129 0.6002201  0.52418449 0.64167278 0.54810796 0.54012924\n",
      " 0.55129381 0.5566059  0.54863565 0.53481291 0.5348115  0.56036176\n",
      "        nan 0.62571533 0.54810937 0.52100288 0.53746543 0.56191659\n",
      " 0.54278881 0.54598595]\n",
      "  warnings.warn(\n"
     ]
    }
   ],
   "source": [
    "#finding best hyperparameter\n",
    "DTC= DecisionTreeClassifier()\n",
    "DTClassifier = RandomizedSearchCV(DTC, decision_tree_space, n_iter=500, scoring='accuracy', n_jobs=-1, cv=5)\n",
    "DTClassifier.fit(X_train, y_train)\n",
    "\n",
    "print('Best hyperparameters are: '+str(DTClassifier.best_params_))\n",
    "print('Best score is: '+str(DTClassifier.best_score_))"
   ]
  },
  {
   "cell_type": "code",
   "execution_count": 65,
   "id": "6ppJMnrWhv9S",
   "metadata": {
    "colab": {
     "base_uri": "https://localhost:8080/"
    },
    "id": "6ppJMnrWhv9S",
    "outputId": "7b67cad5-ac70-4b88-81c8-606558744504"
   },
   "outputs": [
    {
     "name": "stdout",
     "output_type": "stream",
     "text": [
      "Train Accuracy : 0.8952684742158427\n",
      "Test Accuracy : 0.7579617834394905\n",
      "Precision Score :  0.7579617834394905\n",
      "Recall Score :  0.7579617834394905\n",
      "F1-Score Score :  0.7579617834394905\n",
      "              precision    recall  f1-score   support\n",
      "\n",
      "         0.0       0.73      0.76      0.75       220\n",
      "         1.0       0.78      0.76      0.77       251\n",
      "\n",
      "    accuracy                           0.76       471\n",
      "   macro avg       0.76      0.76      0.76       471\n",
      "weighted avg       0.76      0.76      0.76       471\n",
      "\n"
     ]
    }
   ],
   "source": [
    "# create a SVM Classifier object with the best hyperparameters\n",
    "DTClassifier = DecisionTreeClassifier(**DTClassifier.best_params_)\n",
    "\n",
    "# fit the model on the training data\n",
    "DTClassifier.fit(X_train, y_train)\n",
    "\n",
    "# make predictions on the test set\n",
    "y_pred = DTClassifier.predict(X_test)\n",
    "\n",
    "# compute evaluation metrics\n",
    "print('Train Accuracy : %s' % DTClassifier.score(X_train, y_train))\n",
    "print('Test Accuracy : %s' % accuracy_score(y_test, y_pred))\n",
    "print(\"Precision Score : \",precision_score(y_test, y_pred, average='micro'))\n",
    "print(\"Recall Score : \",recall_score(y_test, y_pred, average='micro'))\n",
    "print(\"F1-Score Score : \",f1_score(y_test, y_pred, average='micro'))\n",
    "\n",
    "print(classification_report(y_test, y_pred))"
   ]
  },
  {
   "cell_type": "code",
   "execution_count": null,
   "id": "f6Li0oqZh_we",
   "metadata": {
    "id": "f6Li0oqZh_we"
   },
   "outputs": [],
   "source": []
  }
 ],
 "metadata": {
  "colab": {
   "provenance": []
  },
  "kernelspec": {
   "display_name": "Python 3 (ipykernel)",
   "language": "python",
   "name": "python3"
  },
  "language_info": {
   "codemirror_mode": {
    "name": "ipython",
    "version": 3
   },
   "file_extension": ".py",
   "mimetype": "text/x-python",
   "name": "python",
   "nbconvert_exporter": "python",
   "pygments_lexer": "ipython3",
   "version": "3.9.12"
  }
 },
 "nbformat": 4,
 "nbformat_minor": 5
}
